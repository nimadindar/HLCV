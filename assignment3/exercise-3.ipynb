{
 "cells": [
  {
   "cell_type": "code",
   "execution_count": null,
   "metadata": {},
   "outputs": [],
   "source": [
    "# install requirements\n",
    "! pip install -r requirements.txt"
   ]
  },
  {
   "cell_type": "code",
   "execution_count": 1,
   "metadata": {},
   "outputs": [],
   "source": [
    "from os.path import join as ospj\n",
    "from copy import deepcopy"
   ]
  },
  {
   "cell_type": "code",
   "execution_count": 2,
   "metadata": {},
   "outputs": [],
   "source": [
    "### If using Colab, uncomment the two following lines to mount your Google Drive.\n",
    "\n",
    "# from google.colab import drive\n",
    "# drive.mount('/content/drive')\n",
    "\n",
    "\n",
    "### If using Colab, change the PROJECT_ROOT to where you've uploaded the project.\n",
    "### E.g. PROJECT_ROOT='/content/drive/MyDrive/TeamX/'\n",
    "### You may also need to change the `data_dir`, `save_dir`, paths in the `cfgs/exercise_3/` configs.\n",
    "\n",
    "PROJECT_ROOT='./'\n",
    "# import sys\n",
    "# sys.path.append(PROJECT_ROOT)"
   ]
  },
  {
   "cell_type": "code",
   "execution_count": 3,
   "metadata": {},
   "outputs": [],
   "source": [
    "# Just so that you don't have to restart the notebook with every change.\n",
    "%load_ext autoreload\n",
    "%autoreload 2 "
   ]
  },
  {
   "cell_type": "markdown",
   "metadata": {
    "id": "nO23A_d-c4t8"
   },
   "source": [
    "In Exercise 3, you will implement a convolutional neural network to perform image classification and explore methods to improve the training performance and generalization of these networks.\n",
    "We will use the CIFAR-10 dataset as a benchmark for our networks, similar to the previous exercise. This dataset consists of 50000 training images of 32x32 resolution with 10 object classes, namely airplanes, cars, birds, cats, deer, dogs, frogs, horses, ships, and trucks. The task is to implement a convolutional network to classify these images using the PyTorch library. The four questions are,\n",
    "\n",
    "- Implementing a convolutional neural network, training it, and visualizing its weights (Question 1).\n",
    "- Experiment with batch normalization and early stopping (Question 2).\n",
    "- Data augmentation and dropout to improve generalization (Question 3).\n",
    "- Implement transfer learning from an ImageNet-pretrained model (Question 4)."
   ]
  },
  {
   "cell_type": "markdown",
   "metadata": {},
   "source": [
    "Before we begin, here are a few remarks regarding the codebase for this assignment.\n",
    "\n",
    "\n",
    "For every experiment, you would define a config dictionary (see the dictionary in `./cfgs/exercise_3/cnn_cifar10.py`). Every config dictionary, will have the configuration for \n",
    "- data (e.g batch size, shuffle, which DataModule to use, splitting)\n",
    "- model (e.g which class module to use and what arguments to pass to it)\n",
    "- training (e.g type of optimizer, lr_scheduler, n_epochs etc.)\n",
    "\n",
    "The DataModules are located at  `src/data_loaders/` and they inherit from a base_data_module that handles things such as splitting the data (see `src/data_loaders/base_data_modules.py`). A sample datamodule may inherit from this class (e.g `src/data_loaders/data_modules.py`). The main concern is that datamodule initialization should get everything ready, so that one can simply get the dataloaders for train/held-out sets from it (see `get_loader` and `get_heldout_loader` in BaseDataModule). The data augmentations are also done in a preset fation. One defines the preset in `utils/transform_presets.py` and simply specifies the *preset key* in the config for datamodule.\n",
    "\n",
    "The models are defined in `src/models/` (see for instance `src/models/cnn/model.py`). These are typical Pytorch nn.Modules that we had also seen in Assignment 2. They might additionally have extra methods such as `VisualizeFilter` in `model.py`.\n",
    "\n",
    "The Traier glues everything together. It creates the model, sets up optimizer, lr_schduler etc. and has the option to `train()` or `evaluate()` a model over the given dataloaders. It also logs everything in `Logs/YOUR_EXP_NAME.log` and saves the checkpoints under the `Saved/YOUR_EXP_NAME/`. Please familirize yourself with the `__init__` and methods of both `trainers/base_trainer.py` and `trainers/cnn_trainer.py` before continuing with the assignment.\n",
    "\n",
    "Lastly, for tracking different metrics (top(1/5) (train/val) accuracy or losses), we use a MetricTracker object defined in `src/utils/utils.py`. A single tracker keeps track of multiple metric keys and can `update()` their history by adding new values to a list. In the end, it can be used to return an average of a metric.\n",
    "\n",
    "\n",
    "Feel free to ask questions on the forum if part of the codebase is confusing.\n"
   ]
  },
  {
   "cell_type": "markdown",
   "metadata": {
    "id": "cpyHKxVkc4t-"
   },
   "source": [
    "### Question 1: Implement Convolutional Network (10 points)\n",
    "\n",
    "In this question, we will implement a five-layered convolutional neural network architecture as well as the loss function to train it. Refer to the comments in the code to the exact places where you need to fill in the code.\n",
    "\n",
    "![Failed to load the image. Please view it yourself at ./data/exercise-3/fig1_resized.png](./data/exercise-3/fig1_resized.png)"
   ]
  },
  {
   "cell_type": "markdown",
   "metadata": {
    "id": "AZsjBOeJc4uA"
   },
   "source": [
    "Our architecture is shown in Fig 1. It has five convolution blocks. Each block is consist of convolution, max pooling, and ReLU operation in that order. We will use 3×3 kernels in all convolutional layers. Set the padding and stride of the convolutional layers so that they maintain the spatial dimensions. Max pooling operations are done with 2×2 kernels, with a stride of 2, thereby halving the spatial resolution each time. Finally, stacking these five blocks leads to a 512 × 1 × 1 feature map. Classification is achieved by a fully connected layer. We will train convolutional neural networks on the CIFAR-10 dataset. Implement a class ConvNet to define the model described. The ConvNet takes 32 × 32 color images as inputs and has 5 hidden layers with 128, 512, 512, 512, 512 filters, and produces a 10-class classification.\n",
    "\n",
    "a) Please implement the above network (initialization and forward pass) in class `ConvNet` in `models/cnn/model.py`. The code to train the model is already provided in the `trainers/base_trainer.py`'s train() and `trainers/cnn_trainer`'s _train_epoch(). Train the above model and report the training and validation accuracies. (5 points)\n",
    "\n",
    "b) Implement the method `__str__` in `models/base_model.py`, which should give a string representaiton of the model. The string should show the number of `trainable` parameters for each layer. This gives us a measure of model capacity. Also at the end, it should print the total number of trainable parameters for the entire model. (2 points)"
   ]
  },
  {
   "cell_type": "markdown",
   "metadata": {
    "id": "gyQqsQZVc4uD",
    "tags": [
     "batch norm"
    ]
   },
   "source": [
    "c) Implement a function `VisualizeFilter` in `models/cnn/model.py`, which visualizes the filters of the first convolution layer implemented in Q1.a. In other words, you need to show 128 filters with size 3x3 as color images (since each filter has three input channels). Stack these into 3x3 color images into one large image. You can use the `imshow` function from the `matplotlib` library to visualize the weights. See an example in Fig. 2\n",
    "\n",
    "![Failed to load the image. Please view it yourself at ./data/exercise-3/fig2_resized.png](./data/exercise-3/fig2_resized.png)"
   ]
  },
  {
   "cell_type": "markdown",
   "metadata": {},
   "source": [
    "Compare the filters before and after training. Do you see any patterns? (3 points). Please attach your output images before and after training in a cell with your submission."
   ]
  },
  {
   "cell_type": "code",
   "execution_count": 4,
   "metadata": {},
   "outputs": [
    {
     "name": "stdout",
     "output_type": "stream",
     "text": [
      "transforms for preset CIFAR10 for split train are Compose(\n",
      "    ToTensor()\n",
      "    Normalize(mean=(0.5, 0.5, 0.5), std=(0.5, 0.5, 0.5))\n",
      ")\n",
      "Initialization DataLoader for 45000 samples with {'batch_size': 200, 'shuffle': True, 'num_workers': 6}\n",
      "Initialization heldout DataLoader 5000 samples with {'batch_size': 200, 'shuffle': False, 'num_workers': 6}\n",
      "transforms for preset CIFAR10 for split eval are Compose(\n",
      "    ToTensor()\n",
      "    Normalize(mean=(0.5, 0.5, 0.5), std=(0.5, 0.5, 0.5))\n",
      ")\n",
      "Initialization DataLoader for 10000 samples with {'batch_size': 200, 'shuffle': False, 'num_workers': 6}\n"
     ]
    }
   ],
   "source": [
    "from cfgs.exercise_3 import cnn_cifar10\n",
    "q1_config = cnn_cifar10.q1_experiment\n",
    "\n",
    "datamodule_class = q1_config['datamodule']\n",
    "data_args = q1_config['data_args']\n",
    "\n",
    "dm = datamodule_class(**data_args)\n",
    "\n",
    "# Based on the heldout_split in the config file, \n",
    "# the datamodule will break the dataset into two splits\n",
    "train_data_loader = dm.get_loader()\n",
    "valid_data_loader = dm.get_heldout_loader()\n",
    "\n",
    "# Test loader is the same as train loader\n",
    "# except that training=False, shuffle=False, and no splitting is done \n",
    "# So we use the exact config from training and just modify these arguments\n",
    "test_data_args = deepcopy(data_args) # copy the args\n",
    "test_data_args['training'] = False\n",
    "test_data_args['shuffle'] = False\n",
    "test_data_args['heldout_split'] = 0.0\n",
    "\n",
    "# Now we initialize the test module with the modified config\n",
    "test_dm = datamodule_class(**test_data_args)\n",
    "test_loader = test_dm.get_loader() # and get the loader from it"
   ]
  },
  {
   "cell_type": "code",
   "execution_count": 5,
   "metadata": {},
   "outputs": [
    {
     "data": {
      "image/png": "[encoded data removed]",
      "text/plain": [
       "<Figure size 1000x1000 with 1 Axes>"
      ]
     },
     "metadata": {},
     "output_type": "display_data"
    },
    {
     "name": "stderr",
     "output_type": "stream",
     "text": [
      "Train Epoch: 1 Loss: 1.7691: : 100% 45000/45000 [01:03<00:00, 703.71it/s] \n",
      "Eval Loss: 1.5518: : 100% 5000/5000 [00:35<00:00, 139.98it/s] \n",
      "Train Epoch: 2 Loss: 1.4474: : 100% 45000/45000 [00:58<00:00, 772.05it/s] \n",
      "Eval Loss: 1.2908: : 100% 5000/5000 [00:35<00:00, 139.01it/s]\n",
      "Train Epoch: 3 Loss: 1.3697: : 100% 45000/45000 [00:58<00:00, 774.75it/s] \n",
      "Eval Loss: 1.1059: : 100% 5000/5000 [00:36<00:00, 137.92it/s] \n",
      "Train Epoch: 4 Loss: 1.1183: : 100% 45000/45000 [00:57<00:00, 780.15it/s] \n",
      "Eval Loss: 1.0063: : 100% 5000/5000 [00:35<00:00, 140.81it/s]\n",
      "Train Epoch: 5 Loss: 1.1233: : 100% 45000/45000 [00:59<00:00, 762.47it/s] \n",
      "Eval Loss: 0.9737: : 100% 5000/5000 [00:36<00:00, 137.61it/s] \n",
      "Train Epoch: 6 Loss: 1.1056: : 100% 45000/45000 [00:57<00:00, 778.31it/s] \n",
      "Eval Loss: 0.8949: : 100% 5000/5000 [00:35<00:00, 140.54it/s] \n",
      "Train Epoch: 7 Loss: 1.0805: : 100% 45000/45000 [00:58<00:00, 769.78it/s] \n",
      "Eval Loss: 0.8817: : 100% 5000/5000 [00:35<00:00, 139.02it/s] \n",
      "Train Epoch: 8 Loss: 1.1688: : 100% 45000/45000 [00:58<00:00, 775.16it/s] \n",
      "Eval Loss: 0.8891: : 100% 5000/5000 [00:35<00:00, 139.86it/s] \n",
      "Train Epoch: 9 Loss: 0.8571: : 100% 45000/45000 [00:57<00:00, 777.18it/s] \n",
      "Eval Loss: 0.8017: : 100% 5000/5000 [00:40<00:00, 123.71it/s]\n",
      "Train Epoch: 10 Loss: 0.9552: : 100% 45000/45000 [00:57<00:00, 776.90it/s] \n",
      "Eval Loss: 0.8032: : 100% 5000/5000 [00:36<00:00, 137.84it/s] \n"
     ]
    },
    {
     "data": {
      "image/png": "[encoded data removed]",
      "text/plain": [
       "<Figure size 1000x1000 with 1 Axes>"
      ]
     },
     "metadata": {},
     "output_type": "display_data"
    }
   ],
   "source": [
    "trainer_class = q1_config['trainer_module']\n",
    "trainer_cnn = trainer_class(\n",
    "    config = q1_config, \n",
    "    log_dir = ospj(PROJECT_ROOT,'Logs'),\n",
    "    train_loader=train_data_loader, \n",
    "    eval_loader=valid_data_loader,\n",
    ")\n",
    "\n",
    "trainer_cnn.model.VisualizeFilter()\n",
    "trainer_cnn.train()\n",
    "trainer_cnn.model.VisualizeFilter()"
   ]
  },
  {
   "cell_type": "code",
   "execution_count": 7,
   "metadata": {},
   "outputs": [
    {
     "name": "stderr",
     "output_type": "stream",
     "text": [
      "Eval Loss: 0.8506: : 100% 10000/10000 [00:37<00:00, 269.51it/s]"
     ]
    },
    {
     "name": "stdout",
     "output_type": "stream",
     "text": [
      "{'loss': 0.8233603584766388, 'top1': 0.7209000000000002, 'top5': 0.9766999999999999}\n"
     ]
    },
    {
     "name": "stderr",
     "output_type": "stream",
     "text": [
      "\n"
     ]
    }
   ],
   "source": [
    "# Change this to the experiment you want to evaluate\n",
    "path = './Saved/CIFAR10_CNN_WO_BN/last_model.pth'\n",
    "\n",
    "trainer_cnn.load_model(path=path)\n",
    "\n",
    "result = trainer_cnn.evaluate(loader=test_loader)\n",
    "\n",
    "print(result)"
   ]
  },
  {
   "cell_type": "code",
   "execution_count": 8,
   "metadata": {},
   "outputs": [
    {
     "name": "stdout",
     "output_type": "stream",
     "text": [
      "ConvNet(\n",
      "  (activation): ReLU()\n",
      "  (model): Sequential(\n",
      "    (0): Conv2d(3, 128, kernel_size=(3, 3), stride=(1, 1), padding=(1, 1))\n",
      "    (1): ReLU()\n",
      "    (2): MaxPool2d(kernel_size=2, stride=2, padding=0, dilation=1, ceil_mode=False)\n",
      "    (3): Dropout(p=0.4, inplace=False)\n",
      "    (4): Conv2d(128, 512, kernel_size=(3, 3), stride=(1, 1), padding=(1, 1))\n",
      "    (5): ReLU()\n",
      "    (6): MaxPool2d(kernel_size=2, stride=2, padding=0, dilation=1, ceil_mode=False)\n",
      "    (7): Dropout(p=0.4, inplace=False)\n",
      "    (8): Conv2d(512, 512, kernel_size=(3, 3), stride=(1, 1), padding=(1, 1))\n",
      "    (9): ReLU()\n",
      "    (10): MaxPool2d(kernel_size=2, stride=2, padding=0, dilation=1, ceil_mode=False)\n",
      "    (11): Dropout(p=0.4, inplace=False)\n",
      "    (12): Conv2d(512, 512, kernel_size=(3, 3), stride=(1, 1), padding=(1, 1))\n",
      "    (13): ReLU()\n",
      "    (14): MaxPool2d(kernel_size=2, stride=2, padding=0, dilation=1, ceil_mode=False)\n",
      "    (15): Dropout(p=0.4, inplace=False)\n",
      "    (16): Conv2d(512, 512, kernel_size=(3, 3), stride=(1, 1), padding=(1, 1))\n",
      "    (17): ReLU()\n",
      "    (18): MaxPool2d(kernel_size=2, stride=2, padding=0, dilation=1, ceil_mode=False)\n",
      "    (19): Dropout(p=0.4, inplace=False)\n",
      "    (20): Conv2d(512, 512, kernel_size=(3, 3), stride=(1, 1), padding=(1, 1))\n",
      "    (21): ReLU()\n",
      "    (22): Dropout(p=0.4, inplace=False)\n",
      "    (23): Flatten(start_dim=1, end_dim=-1)\n",
      "    (24): Linear(in_features=512, out_features=10, bias=True)\n",
      "  )\n",
      ")\n",
      "Layer: model.0, Type: Conv2d, Trainable Parameters: 3,584\n",
      "Layer: model.4, Type: Conv2d, Trainable Parameters: 590,336\n",
      "Layer: model.8, Type: Conv2d, Trainable Parameters: 2,359,808\n",
      "Layer: model.12, Type: Conv2d, Trainable Parameters: 2,359,808\n",
      "Layer: model.16, Type: Conv2d, Trainable Parameters: 2,359,808\n",
      "Layer: model.20, Type: Conv2d, Trainable Parameters: 2,359,808\n",
      "Layer: model.24, Type: Linear, Trainable Parameters: 5,130\n",
      "Total Trianable Parameters: 10,038,282\n"
     ]
    }
   ],
   "source": [
    "print(trainer_cnn.model)"
   ]
  },
  {
   "cell_type": "markdown",
   "metadata": {
    "id": "MKti0Y9ic4uK"
   },
   "source": [
    "#### Wirte your report for Q1 in this cell.\n",
    "\n",
    "<br> According to the results achieved from tensorboard, The model began with 1.7691 train loss and 1.5518 validation loss. After training for 10 epochs (According to the graphs in tensorboard, we have 45,000 training examples and batch size equal to 200 and 10 epochs, then we should observe 225 steps per epoch and at total 2250 training step), model has successfuly converged by achieving 0.9552 (0.8032) training (validation) loss. The small gap between training and test set indicates no signs of overfit. From accuracy point of view, the model has reached to validation top 1 accuracy of 72.09%. \n",
    "For top-5 accuracy the model has achieved validation accuracy of 97.66%.  \n",
    "The model has total of 10,038,282 parameters, and number of parameters per layer and details of each layer can be found in the string above. This model has been implemented without batch normalization layer and the effect of adding this normalization layer will be discussed in the following questions. </br>"
   ]
  },
  {
   "cell_type": "markdown",
   "metadata": {
    "id": "A5_tJXTmc4uK"
   },
   "source": [
    "### Question 2: Improve training of Convolutional Networks (15 points)"
   ]
  },
  {
   "cell_type": "markdown",
   "metadata": {},
   "source": [
    "a) Batch normalization is a widely used operation in neural networks, which will increase the speed of convergence and reach higher performance. You can read the paper “Batch Normalization: Accelerating Deep Network Training by Reducing Internal Covariate Shift” for more theoretical details.\n",
    "In practice, these operations are implemented in most toolboxes, such as PyTorch and TensorFlow. Add batch normalization in the model of Q1.a (You can use PyTorch's implementation). Please keep other hyperparameters the same, but only add batch normalization. The ConvNet with batch normalization still uses the same class with Q1.a but different arguments. Check the code for details. In each block, the computations should be in the order of **[convolution -> batch normalization -> pooling -> ReLU]**. Compare the loss curves and accuracy using batch normalization to its counterpart in Q1.a. (5 points)\n",
    "\n",
    "In order to run this experiment, please create a new config dictionary in `cnn_cifar10.py` under the name `q2a_normalization_experiment` (Hint: most of it should be similar to Q1's config). Don't forget to assign the config a new name, so that it doesn't overwrite previous experiments. Similar to the above cells, import the config and run the experiment. \n",
    "\n",
    "You can also add extra code to `base_trainer.py` or `cnn_trainer.py` so that they return extra information after the training is finished. For example, recall that in assignment 2's `models/twolayernet/model.py` we had a train method that would return the history of loss values, and then in the notebook the history was plotted with matplotlib. Feel free to make adjustments that let you better understand what's happening. This also applies to next questions. Right now the code only uses tensorboard and wandb for plotting (if enabled in config)."
   ]
  },
  {
   "cell_type": "code",
   "execution_count": 46,
   "metadata": {},
   "outputs": [
    {
     "name": "stdout",
     "output_type": "stream",
     "text": [
      "transforms for preset CIFAR10 for split train are Compose(\n",
      "    ToTensor()\n",
      "    Normalize(mean=(0.5, 0.5, 0.5), std=(0.5, 0.5, 0.5))\n",
      ")\n",
      "Initialization DataLoader for 45000 samples with {'batch_size': 200, 'shuffle': True, 'num_workers': 6}\n",
      "Initialization heldout DataLoader 5000 samples with {'batch_size': 200, 'shuffle': False, 'num_workers': 6}\n",
      "transforms for preset CIFAR10 for split eval are Compose(\n",
      "    ToTensor()\n",
      "    Normalize(mean=(0.5, 0.5, 0.5), std=(0.5, 0.5, 0.5))\n",
      ")\n",
      "Initialization DataLoader for 10000 samples with {'batch_size': 200, 'shuffle': False, 'num_workers': 6}\n",
      "Warning! Log file ./Logs\\CIFAR10_CNN_BN.log already exists! The logs will be appended!\n",
      "Warning! Save dir Saved\\CIFAR10_CNN_BN already exists!Existing checkpoints will be overwritten!\n"
     ]
    }
   ],
   "source": [
    "q2_bn_config = cnn_cifar10.q2a_normalization_experiment\n",
    "\n",
    "datamodule_class = q2_bn_config['datamodule']\n",
    "data_args = q2_bn_config['data_args']\n",
    "\n",
    "dm = datamodule_class(**data_args)\n",
    "\n",
    "train_data_loader = dm.get_loader()\n",
    "valid_data_loader = dm.get_heldout_loader()\n",
    "\n",
    "test_data_args = deepcopy(data_args) # copy the args\n",
    "test_data_args['training'] = False\n",
    "test_data_args['shuffle'] = False\n",
    "test_data_args['heldout_split'] = 0.0\n",
    "\n",
    "test_dm = datamodule_class(**test_data_args)\n",
    "test_loader = test_dm.get_loader() # and get the loader from it\n",
    "\n",
    "trainer_class_bn = q2_bn_config['trainer_module']\n",
    "trainer_cnn_bn = trainer_class_bn(\n",
    "    config = q2_bn_config, \n",
    "    log_dir = ospj(PROJECT_ROOT,'Logs'),\n",
    "    train_loader=train_data_loader, \n",
    "    eval_loader=valid_data_loader,\n",
    ")"
   ]
  },
  {
   "cell_type": "code",
   "execution_count": 13,
   "metadata": {},
   "outputs": [
    {
     "name": "stderr",
     "output_type": "stream",
     "text": [
      "Train Epoch: 1 Loss: 1.2180: : 100% 45000/45000 [01:03<00:00, 711.31it/s] \n",
      "Eval Loss: 1.2898: : 100% 5000/5000 [00:35<00:00, 140.90it/s] \n",
      "Train Epoch: 2 Loss: 1.0561: : 100% 45000/45000 [01:02<00:00, 718.68it/s] \n",
      "Eval Loss: 1.1086: : 100% 5000/5000 [00:36<00:00, 135.61it/s] \n",
      "Train Epoch: 3 Loss: 0.9927: : 100% 45000/45000 [01:00<00:00, 740.78it/s] \n",
      "Eval Loss: 0.9908: : 100% 5000/5000 [00:35<00:00, 140.76it/s] \n",
      "Train Epoch: 4 Loss: 0.8818: : 100% 45000/45000 [01:02<00:00, 724.75it/s] \n",
      "Eval Loss: 0.8989: : 100% 5000/5000 [00:36<00:00, 136.12it/s]\n",
      "Train Epoch: 5 Loss: 1.0207: : 100% 45000/45000 [01:00<00:00, 739.78it/s] \n",
      "Eval Loss: 0.9939: : 100% 5000/5000 [00:35<00:00, 140.20it/s] \n",
      "Train Epoch: 6 Loss: 0.8194: : 100% 45000/45000 [01:01<00:00, 726.95it/s] \n",
      "Eval Loss: 0.7537: : 100% 5000/5000 [00:36<00:00, 138.12it/s]\n",
      "Train Epoch: 7 Loss: 0.8796: : 100% 45000/45000 [01:01<00:00, 735.66it/s] \n",
      "Eval Loss: 0.7124: : 100% 5000/5000 [00:35<00:00, 139.90it/s] \n",
      "Train Epoch: 8 Loss: 0.7787: : 100% 45000/45000 [01:01<00:00, 726.22it/s] \n",
      "Eval Loss: 0.6836: : 100% 5000/5000 [00:36<00:00, 138.36it/s]\n",
      "Train Epoch: 9 Loss: 0.8044: : 100% 45000/45000 [01:01<00:00, 735.19it/s] \n",
      "Eval Loss: 0.6696: : 100% 5000/5000 [00:35<00:00, 139.64it/s] \n",
      "Train Epoch: 10 Loss: 0.6650: : 100% 45000/45000 [01:01<00:00, 734.09it/s] \n",
      "Eval Loss: 0.7720: : 100% 5000/5000 [00:35<00:00, 139.18it/s]\n"
     ]
    }
   ],
   "source": [
    "trainer_cnn_bn.train()"
   ]
  },
  {
   "cell_type": "code",
   "execution_count": 14,
   "metadata": {},
   "outputs": [
    {
     "name": "stderr",
     "output_type": "stream",
     "text": [
      "Eval Loss: 0.7788: : 100% 10000/10000 [00:37<00:00, 268.35it/s]"
     ]
    },
    {
     "name": "stdout",
     "output_type": "stream",
     "text": [
      "{'loss': 0.7696871888637543, 'top1': 0.7401999999999999, 'top5': 0.9779999999999996}\n"
     ]
    },
    {
     "name": "stderr",
     "output_type": "stream",
     "text": [
      "\n"
     ]
    }
   ],
   "source": [
    "path = './Saved/CIFAR10_CNN_BN/last_model.pth'\n",
    "\n",
    "trainer_cnn_bn.load_model(path=path)\n",
    "\n",
    "result = trainer_cnn_bn.evaluate(loader=test_loader)\n",
    "\n",
    "print(result)"
   ]
  },
  {
   "cell_type": "code",
   "execution_count": 15,
   "metadata": {},
   "outputs": [
    {
     "name": "stdout",
     "output_type": "stream",
     "text": [
      "ConvNet(\n",
      "  (activation): ReLU()\n",
      "  (model): Sequential(\n",
      "    (0): Conv2d(3, 128, kernel_size=(3, 3), stride=(1, 1), padding=(1, 1))\n",
      "    (1): BatchNorm2d(128, eps=1e-05, momentum=0.1, affine=True, track_running_stats=True)\n",
      "    (2): ReLU()\n",
      "    (3): MaxPool2d(kernel_size=2, stride=2, padding=0, dilation=1, ceil_mode=False)\n",
      "    (4): Dropout(p=0.4, inplace=False)\n",
      "    (5): Conv2d(128, 512, kernel_size=(3, 3), stride=(1, 1), padding=(1, 1))\n",
      "    (6): BatchNorm2d(512, eps=1e-05, momentum=0.1, affine=True, track_running_stats=True)\n",
      "    (7): ReLU()\n",
      "    (8): MaxPool2d(kernel_size=2, stride=2, padding=0, dilation=1, ceil_mode=False)\n",
      "    (9): Dropout(p=0.4, inplace=False)\n",
      "    (10): Conv2d(512, 512, kernel_size=(3, 3), stride=(1, 1), padding=(1, 1))\n",
      "    (11): BatchNorm2d(512, eps=1e-05, momentum=0.1, affine=True, track_running_stats=True)\n",
      "    (12): ReLU()\n",
      "    (13): MaxPool2d(kernel_size=2, stride=2, padding=0, dilation=1, ceil_mode=False)\n",
      "    (14): Dropout(p=0.4, inplace=False)\n",
      "    (15): Conv2d(512, 512, kernel_size=(3, 3), stride=(1, 1), padding=(1, 1))\n",
      "    (16): BatchNorm2d(512, eps=1e-05, momentum=0.1, affine=True, track_running_stats=True)\n",
      "    (17): ReLU()\n",
      "    (18): MaxPool2d(kernel_size=2, stride=2, padding=0, dilation=1, ceil_mode=False)\n",
      "    (19): Dropout(p=0.4, inplace=False)\n",
      "    (20): Conv2d(512, 512, kernel_size=(3, 3), stride=(1, 1), padding=(1, 1))\n",
      "    (21): BatchNorm2d(512, eps=1e-05, momentum=0.1, affine=True, track_running_stats=True)\n",
      "    (22): ReLU()\n",
      "    (23): MaxPool2d(kernel_size=2, stride=2, padding=0, dilation=1, ceil_mode=False)\n",
      "    (24): Dropout(p=0.4, inplace=False)\n",
      "    (25): Conv2d(512, 512, kernel_size=(3, 3), stride=(1, 1), padding=(1, 1))\n",
      "    (26): BatchNorm2d(512, eps=1e-05, momentum=0.1, affine=True, track_running_stats=True)\n",
      "    (27): ReLU()\n",
      "    (28): Dropout(p=0.4, inplace=False)\n",
      "    (29): Flatten(start_dim=1, end_dim=-1)\n",
      "    (30): Linear(in_features=512, out_features=10, bias=True)\n",
      "  )\n",
      ")\n",
      "Layer: model.0, Type: Conv2d, Trainable Parameters: 3,584\n",
      "Layer: model.1, Type: BatchNorm2d, Trainable Parameters: 256\n",
      "Layer: model.5, Type: Conv2d, Trainable Parameters: 590,336\n",
      "Layer: model.6, Type: BatchNorm2d, Trainable Parameters: 1,024\n",
      "Layer: model.10, Type: Conv2d, Trainable Parameters: 2,359,808\n",
      "Layer: model.11, Type: BatchNorm2d, Trainable Parameters: 1,024\n",
      "Layer: model.15, Type: Conv2d, Trainable Parameters: 2,359,808\n",
      "Layer: model.16, Type: BatchNorm2d, Trainable Parameters: 1,024\n",
      "Layer: model.20, Type: Conv2d, Trainable Parameters: 2,359,808\n",
      "Layer: model.21, Type: BatchNorm2d, Trainable Parameters: 1,024\n",
      "Layer: model.25, Type: Conv2d, Trainable Parameters: 2,359,808\n",
      "Layer: model.26, Type: BatchNorm2d, Trainable Parameters: 1,024\n",
      "Layer: model.30, Type: Linear, Trainable Parameters: 5,130\n",
      "Total Trianable Parameters: 10,043,658\n"
     ]
    }
   ],
   "source": [
    "print(trainer_cnn_bn.model)"
   ]
  },
  {
   "cell_type": "markdown",
   "metadata": {},
   "source": [
    "Wirte your report for Q2.a in this cell. Feel free to add extra code cells\n",
    "\n",
    "<br>The model with batch normalization has achieved train loss of 0.6650 and evaluation loss of 0.7788. Moreover, top-1 validation accuracy for this model is 74.01% and top-5 validation accuracy is 97.79%. By comparing these results to that of the model without batch normalization, we observe that the model with BN has achieved loewr loss (0.8506 compared to 0.7788) compared to the model without batch normalization. This means that BN leads the model to converge faster and in the same amount of run time, model with BN has achieved lower loss. Furthermore, model with BN has achieved higher top-1 and top-5 accuracies compared to the model without BN.</br>"
   ]
  },
  {
   "cell_type": "markdown",
   "metadata": {},
   "source": [
    "b) Throughout training, we optimize our parameters on the training set. This does not guarantee that with every step we also improve on validation and test set as well! Hence, there is no reason for our latest training checkpoint (the last checkpoint after the last epoch) to be the best to keep. One simple idea is to save a checkpoint of the best model for the validation set throughout the training. Meanining that as the training proceeds, we keep checking our **validation** accuracy after each epoch (or every N epochs) and save the best model. This can mitigate overfitting, as if the model overfits to training data (and accuracy on validation set drops), we would still have access to the best model checkpoint! Note that you **should not** do this on the test set, as we are not alowed to optimize **anything** (including the checkpoint selection) on the test set.\n",
    "\n",
    "For this task, you need add the logic for saving the `best model` during the training. In the `src/trainers/base_trainer`, in method `train()` we already have the call to `self.evaluate()`. All you need to add is to process the returned result (a dictionary of metric_key -> metric_value) and see if you should save a checkpoint of the model. If yes, then you can save a checkpoint at `self.checkpoint_dir` under `best_val_model.pth` or a similar name, using the `save_model()` method. Feel free to define additional class attributes or methods if needed. \n",
    "\n",
    "We also recommend adding a few prints, such as the epochs that you save the best model at. You can also use the `self.logger` object.\n",
    "\n",
    "Please also implement the `should_evaluate()` in the `trainers/base_tariner.py`, which allows for doing the cross-validation evaluation in intervals, based on the config.\n",
    "\n",
    "\n",
    "Increase the training epochs to 50 in Q1.a and Q2.a (simply edit their config dictionaries), and compare the **best model** and **latest model** on the **training set** and **validation set**. Due to the randomness, you can train multiple times to verify and observe overfitting and early stopping. (5 points)\n",
    "\n",
    "\n",
    "Feel free to add any needed train/evaluation code below for this task. "
   ]
  },
  {
   "cell_type": "code",
   "execution_count": 47,
   "metadata": {},
   "outputs": [
    {
     "name": "stdout",
     "output_type": "stream",
     "text": [
      "transforms for preset CIFAR10 for split train are Compose(\n",
      "    ToTensor()\n",
      "    Normalize(mean=(0.5, 0.5, 0.5), std=(0.5, 0.5, 0.5))\n",
      ")\n",
      "Initialization DataLoader for 45000 samples with {'batch_size': 200, 'shuffle': True, 'num_workers': 6}\n",
      "Initialization heldout DataLoader 5000 samples with {'batch_size': 200, 'shuffle': False, 'num_workers': 6}\n",
      "transforms for preset CIFAR10 for split eval are Compose(\n",
      "    ToTensor()\n",
      "    Normalize(mean=(0.5, 0.5, 0.5), std=(0.5, 0.5, 0.5))\n",
      ")\n",
      "Initialization DataLoader for 10000 samples with {'batch_size': 200, 'shuffle': False, 'num_workers': 6}\n",
      "Warning! Log file ./Logs\\CIFAR10_CNN_EARLY_STOP1.log already exists! The logs will be appended!\n",
      "Warning! Save dir Saved\\CIFAR10_CNN_EARLY_STOP1 already exists!Existing checkpoints will be overwritten!\n"
     ]
    }
   ],
   "source": [
    "q2b_config = cnn_cifar10.q2b_experiment\n",
    "\n",
    "datamodule_class = q2b_config['datamodule']\n",
    "data_args = q2b_config['data_args']\n",
    "\n",
    "dm = datamodule_class(**data_args)\n",
    "\n",
    "train_data_loader = dm.get_loader()\n",
    "valid_data_loader = dm.get_heldout_loader()\n",
    "\n",
    "test_data_args = deepcopy(data_args) # copy the args\n",
    "test_data_args['training'] = False\n",
    "test_data_args['shuffle'] = False\n",
    "test_data_args['heldout_split'] = 0.0\n",
    "\n",
    "test_dm = datamodule_class(**test_data_args)\n",
    "test_loader = test_dm.get_loader() # and get the loader from it\n",
    "\n",
    "trainer_class_q2b = q2b_config['trainer_module']\n",
    "trainer_cnn_q2b = trainer_class_q2b(\n",
    "    config = q2b_config, \n",
    "    log_dir = ospj(PROJECT_ROOT,'Logs'),\n",
    "    train_loader=train_data_loader, \n",
    "    eval_loader=valid_data_loader,\n",
    ")"
   ]
  },
  {
   "cell_type": "code",
   "execution_count": 19,
   "metadata": {},
   "outputs": [
    {
     "name": "stderr",
     "output_type": "stream",
     "text": [
      "Train Epoch: 1 Loss: 1.3219: : 100% 45000/45000 [01:02<00:00, 719.37it/s] \n",
      "Eval Loss: 1.2829: : 100% 5000/5000 [00:37<00:00, 134.84it/s]\n",
      "Train Epoch: 2 Loss: 1.0954: : 100% 45000/45000 [01:01<00:00, 730.86it/s] \n",
      "Eval Loss: 1.1348: : 100% 5000/5000 [00:36<00:00, 138.88it/s] \n",
      "Train Epoch: 3 Loss: 0.9255: : 100% 45000/45000 [01:01<00:00, 727.30it/s] \n",
      "Eval Loss: 0.9297: : 100% 5000/5000 [00:36<00:00, 136.43it/s]\n",
      "Train Epoch: 4 Loss: 1.0483: : 100% 45000/45000 [01:00<00:00, 738.45it/s] \n",
      "Eval Loss: 0.9740: : 100% 5000/5000 [00:35<00:00, 138.94it/s] \n",
      "Train Epoch: 5 Loss: 0.8622: : 100% 45000/45000 [01:02<00:00, 725.68it/s] \n",
      "Eval Loss: 0.7914: : 100% 5000/5000 [00:36<00:00, 137.21it/s] \n",
      "Train Epoch: 6 Loss: 0.8216: : 100% 45000/45000 [01:01<00:00, 735.57it/s] \n",
      "Eval Loss: 0.7749: : 100% 5000/5000 [00:35<00:00, 140.28it/s] \n",
      "Train Epoch: 7 Loss: 0.9191: : 100% 45000/45000 [01:01<00:00, 731.75it/s] \n",
      "Eval Loss: 0.7904: : 100% 5000/5000 [00:36<00:00, 138.76it/s] \n",
      "Train Epoch: 8 Loss: 0.8895: : 100% 45000/45000 [01:01<00:00, 732.42it/s] \n",
      "Eval Loss: 0.8603: : 100% 5000/5000 [00:35<00:00, 139.20it/s]\n",
      "Train Epoch: 9 Loss: 0.7787: : 100% 45000/45000 [01:01<00:00, 729.85it/s] \n",
      "Eval Loss: 0.7024: : 100% 5000/5000 [00:36<00:00, 137.65it/s]\n",
      "Train Epoch: 10 Loss: 0.7174: : 100% 45000/45000 [01:01<00:00, 735.84it/s] \n",
      "Eval Loss: 0.7758: : 100% 5000/5000 [00:36<00:00, 137.31it/s] \n",
      "Train Epoch: 11 Loss: 0.6534: : 100% 45000/45000 [01:01<00:00, 732.53it/s] \n",
      "Eval Loss: 0.6137: : 100% 5000/5000 [00:35<00:00, 139.12it/s] \n",
      "Train Epoch: 12 Loss: 0.7611: : 100% 45000/45000 [01:01<00:00, 736.15it/s] \n",
      "Eval Loss: 0.5848: : 100% 5000/5000 [00:36<00:00, 137.56it/s]\n",
      "Train Epoch: 13 Loss: 0.7539: : 100% 45000/45000 [01:01<00:00, 733.96it/s] \n",
      "Eval Loss: 0.6120: : 100% 5000/5000 [00:35<00:00, 139.39it/s] \n",
      "Train Epoch: 14 Loss: 0.6957: : 100% 45000/45000 [01:01<00:00, 733.41it/s] \n",
      "Eval Loss: 0.6892: : 100% 5000/5000 [00:36<00:00, 136.84it/s] \n",
      "Train Epoch: 15 Loss: 0.6655: : 100% 45000/45000 [01:01<00:00, 734.70it/s] \n",
      "Eval Loss: 0.5580: : 100% 5000/5000 [00:35<00:00, 138.90it/s] \n",
      "Train Epoch: 16 Loss: 0.6380: : 100% 45000/45000 [01:01<00:00, 731.87it/s] \n",
      "Eval Loss: 0.5750: : 100% 5000/5000 [00:36<00:00, 138.30it/s]\n",
      "Train Epoch: 17 Loss: 0.7142: : 100% 45000/45000 [01:01<00:00, 734.50it/s] \n",
      "Eval Loss: 0.5132: : 100% 5000/5000 [00:35<00:00, 138.92it/s] \n",
      "Train Epoch: 18 Loss: 0.7477: : 100% 45000/45000 [01:01<00:00, 731.76it/s] \n",
      "Eval Loss: 0.5568: : 100% 5000/5000 [00:36<00:00, 137.77it/s]\n",
      "Train Epoch: 19 Loss: 0.6197: : 100% 45000/45000 [01:01<00:00, 731.00it/s] \n",
      "Eval Loss: 0.5196: : 100% 5000/5000 [00:36<00:00, 136.54it/s]\n",
      "Train Epoch: 20 Loss: 0.6596: : 100% 45000/45000 [01:01<00:00, 736.72it/s] \n",
      "Eval Loss: 0.5167: : 100% 5000/5000 [00:35<00:00, 140.14it/s] \n",
      "Train Epoch: 21 Loss: 0.5711: : 100% 45000/45000 [01:01<00:00, 734.07it/s] \n",
      "Eval Loss: 0.5213: : 100% 5000/5000 [00:36<00:00, 138.44it/s] \n",
      "Train Epoch: 22 Loss: 0.6457: : 100% 45000/45000 [01:01<00:00, 733.99it/s] \n",
      "Eval Loss: 0.5195: : 100% 5000/5000 [00:35<00:00, 139.97it/s] \n",
      "Train Epoch: 23 Loss: 0.6970: : 100% 45000/45000 [01:01<00:00, 733.21it/s] \n",
      "Eval Loss: 0.4870: : 100% 5000/5000 [00:35<00:00, 139.34it/s]\n",
      "Train Epoch: 24 Loss: 0.6160: : 100% 45000/45000 [01:01<00:00, 737.21it/s] \n",
      "Eval Loss: 0.5668: : 100% 5000/5000 [00:35<00:00, 139.68it/s] \n",
      "Train Epoch: 25 Loss: 0.4484: : 100% 45000/45000 [01:01<00:00, 735.88it/s] \n",
      "Eval Loss: 0.5791: : 100% 5000/5000 [00:35<00:00, 139.21it/s]\n",
      "Train Epoch: 26 Loss: 0.4872: : 100% 45000/45000 [01:00<00:00, 739.63it/s] \n",
      "Eval Loss: 0.5601: : 100% 5000/5000 [00:35<00:00, 139.20it/s]\n",
      "Train Epoch: 27 Loss: 0.4795: : 100% 45000/45000 [01:00<00:00, 741.66it/s] \n",
      "Eval Loss: 0.4824: : 100% 5000/5000 [00:35<00:00, 139.04it/s]\n",
      "Train Epoch: 28 Loss: 0.4578: : 100% 45000/45000 [01:01<00:00, 736.20it/s] \n",
      "Eval Loss: 0.4503: : 100% 5000/5000 [00:35<00:00, 139.82it/s] \n",
      "Train Epoch: 29 Loss: 0.5602: : 100% 45000/45000 [01:01<00:00, 726.76it/s] \n",
      "Eval Loss: 0.4864: : 100% 5000/5000 [00:39<00:00, 127.24it/s] \n",
      "Train Epoch: 30 Loss: 0.5202: : 100% 45000/45000 [01:01<00:00, 726.14it/s] \n",
      "Eval Loss: 0.4643: : 100% 5000/5000 [00:35<00:00, 142.25it/s] \n",
      "Train Epoch: 31 Loss: 0.5215: : 100% 45000/45000 [01:00<00:00, 739.79it/s] \n",
      "Eval Loss: 0.4466: : 100% 5000/5000 [00:35<00:00, 141.22it/s] \n",
      "Train Epoch: 32 Loss: 0.5735: : 100% 45000/45000 [01:00<00:00, 746.62it/s] \n",
      "Eval Loss: 0.4650: : 100% 5000/5000 [00:35<00:00, 141.97it/s] \n",
      "Train Epoch: 33 Loss: 0.5090: : 100% 45000/45000 [01:00<00:00, 744.66it/s] \n",
      "Eval Loss: 0.4005: : 100% 5000/5000 [00:34<00:00, 143.90it/s] \n",
      "Train Epoch: 34 Loss: 0.3795: : 100% 45000/45000 [01:00<00:00, 737.96it/s] \n",
      "Eval Loss: 0.4033: : 100% 5000/5000 [00:35<00:00, 140.63it/s] \n",
      "Train Epoch: 35 Loss: 0.3130: : 100% 45000/45000 [01:00<00:00, 746.87it/s] \n",
      "Eval Loss: 0.3934: : 100% 5000/5000 [00:35<00:00, 142.35it/s] \n",
      "Train Epoch: 36 Loss: 0.3990: : 100% 45000/45000 [01:00<00:00, 738.21it/s] \n",
      "Eval Loss: 0.4156: : 100% 5000/5000 [00:39<00:00, 126.17it/s]\n",
      "Train Epoch: 37 Loss: 0.4446: : 100% 45000/45000 [01:02<00:00, 719.67it/s] \n",
      "Eval Loss: 0.3812: : 100% 5000/5000 [00:37<00:00, 134.84it/s]\n",
      "Train Epoch: 38 Loss: 0.4399: : 100% 45000/45000 [01:02<00:00, 718.14it/s] \n",
      "Eval Loss: 0.4447: : 100% 5000/5000 [00:37<00:00, 132.69it/s] \n",
      "Train Epoch: 39 Loss: 0.5081: : 100% 45000/45000 [01:01<00:00, 729.87it/s] \n",
      "Eval Loss: 0.4302: : 100% 5000/5000 [00:36<00:00, 137.20it/s]\n",
      "Train Epoch: 40 Loss: 0.3755: : 100% 45000/45000 [01:02<00:00, 719.96it/s] \n",
      "Eval Loss: 0.4032: : 100% 5000/5000 [00:37<00:00, 133.77it/s]\n",
      "Train Epoch: 41 Loss: 0.4172: : 100% 45000/45000 [01:02<00:00, 725.01it/s] \n",
      "Eval Loss: 0.4447: : 100% 5000/5000 [00:37<00:00, 135.04it/s]\n",
      "Train Epoch: 42 Loss: 0.3630: : 100% 45000/45000 [01:03<00:00, 708.11it/s] \n",
      "Eval Loss: 0.4102: : 100% 5000/5000 [00:37<00:00, 132.63it/s]\n",
      "Train Epoch: 43 Loss: 0.2675: : 100% 45000/45000 [01:01<00:00, 725.93it/s] \n",
      "Eval Loss: 0.3389: : 100% 5000/5000 [00:36<00:00, 136.11it/s]\n",
      "Train Epoch: 44 Loss: 0.3349: : 100% 45000/45000 [01:02<00:00, 719.54it/s] \n",
      "Eval Loss: 0.3658: : 100% 5000/5000 [00:37<00:00, 134.02it/s]\n",
      "Train Epoch: 45 Loss: 0.4198: : 100% 45000/45000 [01:02<00:00, 725.28it/s] \n",
      "Eval Loss: 0.4295: : 100% 5000/5000 [00:36<00:00, 138.00it/s]\n",
      "Train Epoch: 46 Loss: 0.3027: : 100% 45000/45000 [01:02<00:00, 721.99it/s] \n",
      "Eval Loss: 0.4183: : 100% 5000/5000 [00:37<00:00, 134.67it/s] \n",
      "Train Epoch: 47 Loss: 0.3084: : 100% 45000/45000 [01:01<00:00, 729.30it/s] \n",
      "Eval Loss: 0.4354: : 100% 5000/5000 [00:37<00:00, 134.52it/s]\n",
      "Train Epoch: 48 Loss: 0.2895: : 100% 45000/45000 [01:02<00:00, 720.17it/s] \n",
      "Eval Loss: 0.4156: : 100% 5000/5000 [00:37<00:00, 132.62it/s]\n",
      "Train Epoch: 49 Loss: 0.3488: : 100% 45000/45000 [01:01<00:00, 734.60it/s] \n",
      "Eval Loss: 0.3858: : 100% 5000/5000 [00:35<00:00, 141.28it/s]\n",
      "Train Epoch: 50 Loss: 0.2985: : 100% 45000/45000 [01:01<00:00, 732.04it/s] \n",
      "Eval Loss: 0.3345: : 100% 5000/5000 [00:36<00:00, 136.44it/s] \n"
     ]
    }
   ],
   "source": [
    "trainer_cnn_q2b.train()"
   ]
  },
  {
   "cell_type": "code",
   "execution_count": 48,
   "metadata": {},
   "outputs": [
    {
     "name": "stderr",
     "output_type": "stream",
     "text": [
      "Eval Loss: 0.4527: : 100% 10000/10000 [00:35<00:00, 284.68it/s]"
     ]
    },
    {
     "name": "stdout",
     "output_type": "stream",
     "text": [
      "{'loss': 0.40783594995737077, 'top1': 0.8684999999999996, 'top5': 0.9946}\n"
     ]
    },
    {
     "name": "stderr",
     "output_type": "stream",
     "text": [
      "\n"
     ]
    }
   ],
   "source": [
    "path_best_val = './Saved/CIFAR10_CNN_EARLY_STOP1/best_val_model.pth'\n",
    "\n",
    "trainer_cnn_q2b.load_model(path=path_best_val)\n",
    "\n",
    "result = trainer_cnn_q2b.evaluate(loader=test_loader)\n",
    "\n",
    "print(result)"
   ]
  },
  {
   "cell_type": "markdown",
   "metadata": {
    "id": "wWeRAObUc4uL"
   },
   "source": [
    "Wirte your report for Q2.b in this cell. Feel free to add extra code cells\n",
    "\n",
    "<br>\n",
    "In this experiment, we trained the model for 50 epochs, although we saved the best checkpoint, the model continued training till the last epoch. This is wasting training time on extra overfitting steps. The final results we achieved for this test at epoch 50 includes achieving training loss of 0.2985 compared to validation loss of 0.4078. This gap indicates that the model has indeed overfitted to the data. Top1 and Top5 accuracy on validation data include 86.85% and 99.46%. Despite achieving top1 accuracy of 90.49% on training set, we are off by a gap of 3.64%.\n",
    "</br>"
   ]
  },
  {
   "cell_type": "markdown",
   "metadata": {},
   "source": [
    "c) While in part `b` we save the best model, we still do as many epochs as indicated in the config file. This is not convenient as the overfitting steps are wasting time and compute and also wouldn't affect the best model. Hence, Early Stopping can be helpful, where we **stop** the training after a few non-improving steps! Early stopping logic should be considered after every training epoch is finished, to see if we should do more epochs or not. Therefore, the logic should should be implemented ath the end of the loop over epochs in the `train()` method of `base_trainer.py` (which takes care of running multiple epochs).\n",
    "\n",
    "Once implemented, you need a new config dictionary to enable early stopping. Simply create a new one at the bottom of `cfgs/exercise-3/cnn_cifar10.py`. It should be mostly similar to previous config, with the following modification:\n",
    "```Python\n",
    "q2c_earlystop_experiment = dict(\n",
    "    name = 'Some New Name' # Otherwise it will overwrite previous experiment!\n",
    "    ...\n",
    "    trainer = dict(\n",
    "        ...\n",
    "        monitor = \"off\", # -> chante to \"max eval_top1\"\n",
    "        early_stop = 0, #  -> change to 4\n",
    "    ),\n",
    ")\n",
    "```\n",
    "This will enable the early stopping to be considered for `eval_top1` metric and the maximum number of non-improving steps will be set to 4.\n",
    "\n",
    "Use the cells below to re-run one of the experiments from part `b` that the best epoch was way lower than the total number of epochs, and see if early stopping can prevent unnecessary training epochs in that case."
   ]
  },
  {
   "cell_type": "code",
   "execution_count": 21,
   "metadata": {},
   "outputs": [
    {
     "name": "stdout",
     "output_type": "stream",
     "text": [
      "transforms for preset CIFAR10 for split train are Compose(\n",
      "    ToTensor()\n",
      "    Normalize(mean=(0.5, 0.5, 0.5), std=(0.5, 0.5, 0.5))\n",
      ")\n",
      "Initialization DataLoader for 45000 samples with {'batch_size': 200, 'shuffle': True, 'num_workers': 6}\n",
      "Initialization heldout DataLoader 5000 samples with {'batch_size': 200, 'shuffle': False, 'num_workers': 6}\n",
      "transforms for preset CIFAR10 for split eval are Compose(\n",
      "    ToTensor()\n",
      "    Normalize(mean=(0.5, 0.5, 0.5), std=(0.5, 0.5, 0.5))\n",
      ")\n",
      "Initialization DataLoader for 10000 samples with {'batch_size': 200, 'shuffle': False, 'num_workers': 6}\n"
     ]
    }
   ],
   "source": [
    "q2_early_stopping_config = cnn_cifar10.q2c_earlystop_experiment\n",
    "\n",
    "datamodule_class = q2_early_stopping_config['datamodule']\n",
    "data_args = q2_early_stopping_config['data_args']\n",
    "\n",
    "dm = datamodule_class(**data_args)\n",
    "\n",
    "train_data_loader = dm.get_loader()\n",
    "valid_data_loader = dm.get_heldout_loader()\n",
    "\n",
    "test_data_args = deepcopy(data_args) # copy the args\n",
    "test_data_args['training'] = False\n",
    "test_data_args['shuffle'] = False\n",
    "test_data_args['heldout_split'] = 0.0\n",
    "\n",
    "test_dm = datamodule_class(**test_data_args)\n",
    "test_loader = test_dm.get_loader() # and get the loader from it\n",
    "\n",
    "trainer_class_early_stopping = q2_early_stopping_config['trainer_module']\n",
    "trainer_early_stopping = trainer_class_early_stopping(\n",
    "    config = q2_early_stopping_config, \n",
    "    log_dir = ospj(PROJECT_ROOT,'Logs'),\n",
    "    train_loader=train_data_loader, \n",
    "    eval_loader=valid_data_loader,\n",
    ")"
   ]
  },
  {
   "cell_type": "code",
   "execution_count": 22,
   "metadata": {},
   "outputs": [
    {
     "name": "stderr",
     "output_type": "stream",
     "text": [
      "Train Epoch: 1 Loss: 1.3298: : 100% 45000/45000 [01:01<00:00, 732.44it/s] \n",
      "Eval Loss: 1.1952: : 100% 5000/5000 [00:35<00:00, 139.59it/s] \n",
      "Train Epoch: 2 Loss: 1.1611: : 100% 45000/45000 [01:01<00:00, 728.42it/s] \n",
      "Eval Loss: 1.1485: : 100% 5000/5000 [00:35<00:00, 138.93it/s]\n",
      "Train Epoch: 3 Loss: 1.0172: : 100% 45000/45000 [01:01<00:00, 731.17it/s] \n",
      "Eval Loss: 1.1088: : 100% 5000/5000 [00:36<00:00, 138.44it/s] \n",
      "Train Epoch: 4 Loss: 1.1438: : 100% 45000/45000 [01:02<00:00, 714.92it/s] \n",
      "Eval Loss: 0.8592: : 100% 5000/5000 [00:36<00:00, 136.74it/s]\n",
      "Train Epoch: 5 Loss: 0.8373: : 100% 45000/45000 [01:01<00:00, 730.47it/s] \n",
      "Eval Loss: 0.7359: : 100% 5000/5000 [00:36<00:00, 138.75it/s] \n",
      "Train Epoch: 6 Loss: 0.9453: : 100% 45000/45000 [01:02<00:00, 724.41it/s] \n",
      "Eval Loss: 0.8820: : 100% 5000/5000 [00:36<00:00, 136.89it/s]\n",
      "Train Epoch: 7 Loss: 0.8470: : 100% 45000/45000 [01:01<00:00, 731.98it/s] \n",
      "Eval Loss: 1.0339: : 100% 5000/5000 [00:36<00:00, 137.00it/s]\n",
      "Train Epoch: 8 Loss: 0.7161: : 100% 45000/45000 [01:01<00:00, 730.90it/s] \n",
      "Eval Loss: 0.7260: : 100% 5000/5000 [00:35<00:00, 138.99it/s]\n",
      "Train Epoch: 9 Loss: 0.8419: : 100% 45000/45000 [01:01<00:00, 730.98it/s] \n",
      "Eval Loss: 0.7508: : 100% 5000/5000 [00:36<00:00, 137.49it/s]\n",
      "Train Epoch: 10 Loss: 0.7559: : 100% 45000/45000 [01:01<00:00, 734.34it/s] \n",
      "Eval Loss: 0.6343: : 100% 5000/5000 [00:37<00:00, 134.85it/s]\n",
      "Train Epoch: 11 Loss: 0.9391: : 100% 45000/45000 [01:02<00:00, 722.48it/s] \n",
      "Eval Loss: 0.6271: : 100% 5000/5000 [00:38<00:00, 129.56it/s]\n",
      "Train Epoch: 12 Loss: 0.8265: : 100% 45000/45000 [01:01<00:00, 735.96it/s] \n",
      "Eval Loss: 0.5974: : 100% 5000/5000 [00:35<00:00, 139.97it/s]\n",
      "Train Epoch: 13 Loss: 0.5392: : 100% 45000/45000 [01:02<00:00, 723.52it/s] \n",
      "Eval Loss: 0.5971: : 100% 5000/5000 [00:36<00:00, 136.70it/s] \n",
      "Train Epoch: 14 Loss: 0.7774: : 100% 45000/45000 [01:00<00:00, 738.71it/s] \n",
      "Eval Loss: 0.5783: : 100% 5000/5000 [00:35<00:00, 141.91it/s] \n",
      "Train Epoch: 15 Loss: 0.6528: : 100% 45000/45000 [01:02<00:00, 725.79it/s] \n",
      "Eval Loss: 0.5550: : 100% 5000/5000 [00:36<00:00, 136.11it/s]\n",
      "Train Epoch: 16 Loss: 0.7055: : 100% 45000/45000 [01:00<00:00, 740.52it/s] \n",
      "Eval Loss: 0.5332: : 100% 5000/5000 [00:35<00:00, 139.51it/s]\n",
      "Train Epoch: 17 Loss: 0.5465: : 100% 45000/45000 [01:01<00:00, 726.55it/s] \n",
      "Eval Loss: 0.5537: : 100% 5000/5000 [00:36<00:00, 136.60it/s]\n",
      "Train Epoch: 18 Loss: 0.5889: : 100% 45000/45000 [01:00<00:00, 743.09it/s] \n",
      "Eval Loss: 0.5811: : 100% 5000/5000 [00:35<00:00, 140.24it/s]\n",
      "Train Epoch: 19 Loss: 0.6056: : 100% 45000/45000 [01:01<00:00, 731.00it/s] \n",
      "Eval Loss: 0.5424: : 100% 5000/5000 [00:36<00:00, 137.95it/s] \n",
      "Train Epoch: 20 Loss: 0.6692: : 100% 45000/45000 [01:00<00:00, 737.95it/s] \n",
      "Eval Loss: 0.5741: : 100% 5000/5000 [00:35<00:00, 140.44it/s] \n",
      "Train Epoch: 21 Loss: 0.6384: : 100% 45000/45000 [01:01<00:00, 734.53it/s] \n",
      "Eval Loss: 0.5029: : 100% 5000/5000 [00:38<00:00, 129.73it/s]\n",
      "Train Epoch: 22 Loss: 0.5047: : 100% 45000/45000 [01:01<00:00, 726.22it/s] \n",
      "Eval Loss: 0.4632: : 100% 5000/5000 [00:35<00:00, 142.31it/s] \n",
      "Train Epoch: 23 Loss: 0.5082: : 100% 45000/45000 [01:00<00:00, 739.39it/s] \n",
      "Eval Loss: 0.4820: : 100% 5000/5000 [00:35<00:00, 139.70it/s]\n",
      "Train Epoch: 24 Loss: 0.4844: : 100% 45000/45000 [01:00<00:00, 748.60it/s] \n",
      "Eval Loss: 0.5106: : 100% 5000/5000 [00:35<00:00, 142.45it/s] \n",
      "Train Epoch: 25 Loss: 0.5209: : 100% 45000/45000 [01:01<00:00, 736.91it/s] \n",
      "Eval Loss: 0.4475: : 100% 5000/5000 [00:35<00:00, 140.13it/s]\n",
      "Train Epoch: 26 Loss: 0.5020: : 100% 45000/45000 [01:00<00:00, 744.20it/s] \n",
      "Eval Loss: 0.4914: : 100% 5000/5000 [00:36<00:00, 138.78it/s] \n",
      "Train Epoch: 27 Loss: 0.4846: : 100% 45000/45000 [01:01<00:00, 728.55it/s] \n",
      "Eval Loss: 0.4180: : 100% 5000/5000 [00:36<00:00, 138.11it/s]\n",
      "Train Epoch: 28 Loss: 0.5317: : 100% 45000/45000 [01:01<00:00, 736.91it/s] \n",
      "Eval Loss: 0.5062: : 100% 5000/5000 [00:36<00:00, 138.66it/s]\n",
      "Train Epoch: 29 Loss: 0.4910: : 100% 45000/45000 [01:00<00:00, 737.78it/s] \n",
      "Eval Loss: 0.4005: : 100% 5000/5000 [00:36<00:00, 137.86it/s]\n",
      "Train Epoch: 30 Loss: 0.4227: : 100% 45000/45000 [01:00<00:00, 740.15it/s] \n",
      "Eval Loss: 0.4522: : 100% 5000/5000 [00:35<00:00, 138.89it/s]\n",
      "Train Epoch: 31 Loss: 0.4334: : 100% 45000/45000 [01:00<00:00, 738.65it/s] \n",
      "Eval Loss: 0.4236: : 100% 5000/5000 [00:35<00:00, 139.37it/s]\n",
      "Train Epoch: 32 Loss: 0.4520: : 100% 45000/45000 [01:00<00:00, 738.59it/s] \n",
      "Eval Loss: 0.3999: : 100% 5000/5000 [00:36<00:00, 136.95it/s] \n",
      "Train Epoch: 33 Loss: 0.5160: : 100% 45000/45000 [01:01<00:00, 735.02it/s] \n",
      "Eval Loss: 0.4221: : 100% 5000/5000 [00:35<00:00, 139.98it/s] \n",
      "Train Epoch: 34 Loss: 0.3800: : 100% 45000/45000 [01:01<00:00, 734.97it/s] \n",
      "Eval Loss: 0.3964: : 100% 5000/5000 [00:36<00:00, 138.25it/s] \n",
      "Train Epoch: 35 Loss: 0.4365: : 100% 45000/45000 [01:00<00:00, 738.61it/s] \n",
      "Eval Loss: 0.4791: : 100% 5000/5000 [00:36<00:00, 138.88it/s]\n"
     ]
    }
   ],
   "source": [
    "trainer_early_stopping.train()"
   ]
  },
  {
   "cell_type": "code",
   "execution_count": 23,
   "metadata": {},
   "outputs": [
    {
     "name": "stderr",
     "output_type": "stream",
     "text": [
      "Eval Loss: 0.5689: : 100% 10000/10000 [00:37<00:00, 264.10it/s]"
     ]
    },
    {
     "name": "stdout",
     "output_type": "stream",
     "text": [
      "{'loss': 0.4771540939807892, 'top1': 0.8429000000000002, 'top5': 0.9919999999999999}\n"
     ]
    },
    {
     "name": "stderr",
     "output_type": "stream",
     "text": [
      "\n"
     ]
    }
   ],
   "source": [
    "path = './Saved/CIFAR10_CNN_EARLY_STOP2/last_model.pth'\n",
    "\n",
    "trainer_early_stopping.load_model(path=path)\n",
    "\n",
    "result = trainer_early_stopping.evaluate(loader=test_loader)\n",
    "\n",
    "print(result)"
   ]
  },
  {
   "cell_type": "markdown",
   "metadata": {},
   "source": [
    "Wirte your report for Q2.c in this cell.\n",
    "\n",
    "Feel free to add extra code cells\n",
    "\n",
    "<br>In this case of early stopping, we added a break into the loop when model training did not improve after given steps. As a result, model only was trained up to epoch 35 and as it is evident from the log file, early stopping was triggered after 4 epochs that model did not improve. In this case we achieved training (validation) loss of 0.41898 (0.42426), training (validation) top-1 accuracy 85.75 (85.96)% and top-5 accuracy of 99.47 (99.34)%. The respective results for the heldout test set is:\n",
    "\n",
    "Eval Loss: 0.5689 {'loss': 0.4771540939807892, 'top1': 84.29 %, 'top5': 99.19%}\n",
    "\n",
    "The small gap between training and test sets 1.46% for top-1 and 0.15% for top-5 accuracy indicates that indeed the model was successful achieving high performance and avoiding overfitting by utilizing early stopping.\n",
    "\n",
    "For the results of last question (the model with batch normalization)\n",
    "\n",
    "Eval Loss: 0.7788: {'loss': 0.7696871888637543, 'top1': 74.02%, 'top5': 97.79%}\n",
    "\n",
    "we see that although we did not change anything in the model structure (except adding early stopping to the training proces), in this question we achieved far better generalization.\n",
    " </br>"
   ]
  },
  {
   "cell_type": "markdown",
   "metadata": {
    "id": "qc1RwzMnc4uL"
   },
   "source": [
    "### Question 3: Improve generalization of Convolutional Networks (10 points)\n",
    "\n",
    "We saw in Q2 that the model can start over-fitting to the training set if we continue training for long. To prevent over-fitting, there are two main paradigms we can focus on. \n",
    "\n",
    "The first is to get more training data. This might be a difficult and expensive process. However, it is generally the most effective way to learn more general models. A cheaper alternative is to perform data augmentation. The second approach is to regularize the model to prevent overfitting. \n",
    "\n",
    "In the following sub-questions, we will experiment with each of these paradigms and measure the effect on the model generalization. We recommend disabling Early Stopping from previous question (simply removing it from config file) so that it does not interrupt your experiments with data augmentations and you maintain full control over number of epochs.\n",
    "\n",
    "\n",
    "\n",
    "a) Data augmentation is the process of creating more training data by applying certain transformations to the training set images. Usually, the underlying assumption is that the label of the image does not change under the applied transformations. This includes geometric transformations like translation, rotation, scaling, flipping, random cropping, and color transformations like greyscale, colorjitter. For every image in the training batch, a random transformation is sampled from the possible ones (e.g., a random number of pixels to translate the image by) and is applied to the image. While designing the data input pipeline, we must choose the hyper-parameters for these transformations (e.g., limits of translation or rotation) based on things we expect to see in the test-set/real world. Your task in this question is to implement the data augmentation for the CIFAR-10 classification task. Many of these transformations are implemented in the `torchvision.transforms` package. Familiarize yourself with the APIs of these transforms, and functions to compose multiple transforms or randomly sample them. Next, implement geometric and color space data augmentations for the CIFAR-10 dataset, by choosing the right functions and order of application. Tune the hyper-parameters of these data augmentations to improve the validation performance. You will need to train the model a bit longer (20-30 epochs) with data augmentation, as the training data is effectively larger now. Discuss which augmentations work well for you in the report. (6 points)\n",
    "\n",
    "Create as many config dictionaries as you need in `cnn_cifar10.py`. For every augmentation, simply create a new preset under `src/utils/transform_presets.py` and reference its name in your experiment's config dict.\n",
    "\n",
    "\n",
    "\n",
    "b) Dropout is a popular scheme to regularize the model to improve generalization. The dropout layer works by setting the input activations randomly to zero at the output. You can implement Dropout by adding the `torch.nn.Dropout` layer between the conv blocks in your model. The layer has a single hyper-parameter $p$, which is the probability of dropping the input activations. High values of $p$ regularize the model heavily and decrease model capacity, but with low values, the model might overfit. Find the right hyper-parameter for $p$ by training the model for different values of $p$ and comparing training validation and validation accuracies. You can use the same parameter $p$ for all layers. You can also disable the data augmentation from the previous step while running this experiment, to clearly see the benefit of dropout. Show the plot of training and validation accuracies for different values of dropout (0.1 - 0.9) in the report. Create as many config dictionaries as you need in `cnn_cifar10.py`. (4 points)"
   ]
  },
  {
   "cell_type": "code",
   "execution_count": 4,
   "metadata": {},
   "outputs": [
    {
     "name": "stdout",
     "output_type": "stream",
     "text": [
      "transforms for preset CIFAR10_WithFlip for split train are Compose(\n",
      "    RandomHorizontalFlip(p=0.5)\n",
      "    ToTensor()\n",
      "    Normalize(mean=(0.5, 0.5, 0.5), std=(0.5, 0.5, 0.5))\n",
      ")\n",
      "Initialization DataLoader for 45000 samples with {'batch_size': 200, 'shuffle': True, 'num_workers': 6}\n",
      "Initialization heldout DataLoader 5000 samples with {'batch_size': 200, 'shuffle': False, 'num_workers': 6}\n",
      "transforms for preset CIFAR10_WithFlip for split eval are Compose(\n",
      "    ToTensor()\n",
      "    Normalize(mean=(0.5, 0.5, 0.5), std=(0.5, 0.5, 0.5))\n",
      ")\n",
      "Initialization DataLoader for 10000 samples with {'batch_size': 200, 'shuffle': False, 'num_workers': 6}\n",
      "Warning! Log file ./Logs\\CIFAR10_CNN_aug_flip.log already exists! The logs will be appended!\n",
      "Warning! Save dir Saved\\CIFAR10_CNN_aug_flip already exists!Existing checkpoints will be overwritten!\n"
     ]
    }
   ],
   "source": [
    "from cfgs.exercise_3 import cnn_cifar10\n",
    "\n",
    "q3a_aug_flip_config = cnn_cifar10.q3a_aug_flip\n",
    "\n",
    "datamodule_class_flip = q3a_aug_flip_config['datamodule']\n",
    "data_args_flip = q3a_aug_flip_config['data_args']\n",
    "\n",
    "dm_flip = datamodule_class_flip(**data_args_flip)\n",
    "\n",
    "train_data_loader_flip = dm_flip.get_loader()\n",
    "valid_data_loader_flip = dm_flip.get_heldout_loader()\n",
    "\n",
    "test_data_args_flip = deepcopy(data_args_flip) # copy the args\n",
    "test_data_args_flip['training'] = False\n",
    "test_data_args_flip['shuffle'] = False\n",
    "test_data_args_flip['heldout_split'] = 0.0\n",
    "\n",
    "test_dm_flip = datamodule_class_flip(**test_data_args_flip)\n",
    "test_loader_flip = test_dm_flip.get_loader() # and get the loader from it\n",
    "\n",
    "trainer_class_aug_flip = q3a_aug_flip_config['trainer_module']\n",
    "trainer_class_aug_flip = trainer_class_aug_flip(\n",
    "    config = q3a_aug_flip_config, \n",
    "    log_dir = ospj(PROJECT_ROOT,'Logs'),\n",
    "    train_loader=train_data_loader_flip, \n",
    "    eval_loader=valid_data_loader_flip,\n",
    ")"
   ]
  },
  {
   "cell_type": "code",
   "execution_count": 5,
   "metadata": {},
   "outputs": [
    {
     "name": "stderr",
     "output_type": "stream",
     "text": [
      "Train Epoch: 1 Loss: 1.1607: : 100% 45000/45000 [01:02<00:00, 725.60it/s] \n",
      "Eval Loss: 1.2294: : 100% 5000/5000 [00:33<00:00, 148.33it/s]\n",
      "Train Epoch: 2 Loss: 1.1317: : 100% 45000/45000 [00:57<00:00, 782.28it/s] \n",
      "Eval Loss: 1.5311: : 100% 5000/5000 [00:31<00:00, 158.90it/s]\n",
      "Train Epoch: 3 Loss: 1.0284: : 100% 45000/45000 [00:57<00:00, 779.22it/s] \n",
      "Eval Loss: 1.4070: : 100% 5000/5000 [00:31<00:00, 157.35it/s]\n",
      "Train Epoch: 4 Loss: 0.9241: : 100% 45000/45000 [00:56<00:00, 796.16it/s] \n",
      "Eval Loss: 1.0696: : 100% 5000/5000 [00:30<00:00, 162.32it/s] \n",
      "Train Epoch: 5 Loss: 1.0080: : 100% 45000/45000 [00:59<00:00, 760.99it/s] \n",
      "Eval Loss: 0.8890: : 100% 5000/5000 [00:38<00:00, 131.23it/s]\n",
      "Train Epoch: 6 Loss: 0.8642: : 100% 45000/45000 [01:01<00:00, 736.40it/s] \n",
      "Eval Loss: 0.7830: : 100% 5000/5000 [00:34<00:00, 144.79it/s]\n",
      "Train Epoch: 7 Loss: 0.6930: : 100% 45000/45000 [01:02<00:00, 723.32it/s] \n",
      "Eval Loss: 0.7644: : 100% 5000/5000 [00:34<00:00, 146.25it/s]\n",
      "Train Epoch: 8 Loss: 0.7473: : 100% 45000/45000 [01:00<00:00, 742.58it/s] \n",
      "Eval Loss: 0.6455: : 100% 5000/5000 [00:34<00:00, 144.20it/s]\n",
      "Train Epoch: 9 Loss: 0.8622: : 100% 45000/45000 [01:00<00:00, 744.79it/s] \n",
      "Eval Loss: 0.6606: : 100% 5000/5000 [00:34<00:00, 144.86it/s]\n",
      "Train Epoch: 10 Loss: 0.7477: : 100% 45000/45000 [01:00<00:00, 744.62it/s] \n",
      "Eval Loss: 0.8763: : 100% 5000/5000 [00:32<00:00, 151.75it/s] \n",
      "Train Epoch: 11 Loss: 0.8155: : 100% 45000/45000 [00:56<00:00, 800.20it/s] \n",
      "Eval Loss: 0.6581: : 100% 5000/5000 [00:30<00:00, 162.89it/s] \n",
      "Train Epoch: 12 Loss: 0.7777: : 100% 45000/45000 [00:56<00:00, 796.94it/s] \n",
      "Eval Loss: 0.5850: : 100% 5000/5000 [00:30<00:00, 163.09it/s] \n",
      "Train Epoch: 13 Loss: 0.7942: : 100% 45000/45000 [00:56<00:00, 798.00it/s] \n",
      "Eval Loss: 0.5935: : 100% 5000/5000 [00:30<00:00, 162.10it/s]\n",
      "Train Epoch: 14 Loss: 0.7178: : 100% 45000/45000 [00:56<00:00, 793.16it/s] \n",
      "Eval Loss: 0.5872: : 100% 5000/5000 [00:30<00:00, 162.00it/s] \n",
      "Train Epoch: 15 Loss: 0.5640: : 100% 45000/45000 [00:56<00:00, 794.79it/s] \n",
      "Eval Loss: 0.6441: : 100% 5000/5000 [00:30<00:00, 161.91it/s] \n",
      "Train Epoch: 16 Loss: 0.6636: : 100% 45000/45000 [00:56<00:00, 795.80it/s] \n",
      "Eval Loss: 0.5357: : 100% 5000/5000 [00:30<00:00, 163.60it/s]\n",
      "Train Epoch: 17 Loss: 0.6772: : 100% 45000/45000 [00:56<00:00, 797.57it/s] \n",
      "Eval Loss: 0.5172: : 100% 5000/5000 [00:31<00:00, 156.88it/s] \n",
      "Train Epoch: 18 Loss: 0.6287: : 100% 45000/45000 [00:56<00:00, 789.63it/s] \n",
      "Eval Loss: 0.5693: : 100% 5000/5000 [00:31<00:00, 161.18it/s] \n",
      "Train Epoch: 19 Loss: 0.7003: : 100% 45000/45000 [00:56<00:00, 795.10it/s] \n",
      "Eval Loss: 0.5616: : 100% 5000/5000 [00:30<00:00, 163.62it/s]\n",
      "Train Epoch: 20 Loss: 0.5438: : 100% 45000/45000 [00:56<00:00, 790.71it/s] \n",
      "Eval Loss: 0.5233: : 100% 5000/5000 [00:31<00:00, 157.62it/s]\n",
      "Train Epoch: 21 Loss: 0.7774: : 100% 45000/45000 [00:56<00:00, 791.80it/s] \n",
      "Eval Loss: 0.4033: : 100% 5000/5000 [00:30<00:00, 161.63it/s]\n",
      "Train Epoch: 22 Loss: 0.6175: : 100% 45000/45000 [00:56<00:00, 802.22it/s] \n",
      "Eval Loss: 0.4996: : 100% 5000/5000 [00:30<00:00, 164.99it/s] \n",
      "Train Epoch: 23 Loss: 0.4780: : 100% 45000/45000 [00:56<00:00, 791.90it/s] \n",
      "Eval Loss: 0.4498: : 100% 5000/5000 [00:31<00:00, 160.18it/s]\n",
      "Train Epoch: 24 Loss: 0.6410: : 100% 45000/45000 [00:56<00:00, 796.21it/s] \n",
      "Eval Loss: 0.5192: : 100% 5000/5000 [00:31<00:00, 161.02it/s] \n",
      "Train Epoch: 25 Loss: 0.5789: : 100% 45000/45000 [00:56<00:00, 803.29it/s] \n",
      "Eval Loss: 0.5150: : 100% 5000/5000 [00:30<00:00, 163.14it/s] \n"
     ]
    }
   ],
   "source": [
    "trainer_class_aug_flip.train()"
   ]
  },
  {
   "cell_type": "code",
   "execution_count": 7,
   "metadata": {},
   "outputs": [
    {
     "name": "stderr",
     "output_type": "stream",
     "text": [
      "Eval Loss: 0.5693: : 100% 10000/10000 [00:38<00:00, 261.85it/s] "
     ]
    },
    {
     "name": "stdout",
     "output_type": "stream",
     "text": [
      "{'loss': 0.5482292628288269, 'top1': 0.8171999999999997, 'top5': 0.9894999999999996}\n"
     ]
    },
    {
     "name": "stderr",
     "output_type": "stream",
     "text": [
      "\n"
     ]
    }
   ],
   "source": [
    "path = './Saved/CIFAR10_CNN_aug_flip/last_model.pth'\n",
    "\n",
    "trainer_class_aug_flip.load_model(path=path)\n",
    "\n",
    "result = trainer_class_aug_flip.evaluate(loader=test_loader_flip)\n",
    "\n",
    "print(result)"
   ]
  },
  {
   "cell_type": "code",
   "execution_count": 8,
   "metadata": {},
   "outputs": [
    {
     "name": "stdout",
     "output_type": "stream",
     "text": [
      "transforms for preset CIFAR10_WithCropFlip for split train are Compose(\n",
      "    RandomCrop(size=(32, 32), padding=4)\n",
      "    RandomHorizontalFlip(p=0.5)\n",
      "    ToTensor()\n",
      "    Normalize(mean=(0.5, 0.5, 0.5), std=(0.5, 0.5, 0.5))\n",
      ")\n",
      "Initialization DataLoader for 45000 samples with {'batch_size': 200, 'shuffle': True, 'num_workers': 6}\n",
      "Initialization heldout DataLoader 5000 samples with {'batch_size': 200, 'shuffle': False, 'num_workers': 6}\n",
      "transforms for preset CIFAR10_WithCropFlip for split eval are Compose(\n",
      "    ToTensor()\n",
      "    Normalize(mean=(0.5, 0.5, 0.5), std=(0.5, 0.5, 0.5))\n",
      ")\n",
      "Initialization DataLoader for 10000 samples with {'batch_size': 200, 'shuffle': False, 'num_workers': 6}\n"
     ]
    }
   ],
   "source": [
    "q3a_aug_crop_flip_config = cnn_cifar10.q3a_aug_crop_flip\n",
    "\n",
    "datamodule_class_crop_flip = q3a_aug_crop_flip_config['datamodule']\n",
    "data_args_crop_flip = q3a_aug_crop_flip_config['data_args']\n",
    "\n",
    "dm_crop_flip = datamodule_class_crop_flip(**data_args_crop_flip)\n",
    "\n",
    "train_data_loader_crop_flip = dm_crop_flip.get_loader()\n",
    "valid_data_loader_crop_flip = dm_crop_flip.get_heldout_loader()\n",
    "\n",
    "test_data_args_crop_flip = deepcopy(data_args_crop_flip) # copy the args\n",
    "test_data_args_crop_flip['training'] = False\n",
    "test_data_args_crop_flip['shuffle'] = False\n",
    "test_data_args_crop_flip['heldout_split'] = 0.0\n",
    "\n",
    "test_dm_crop_flip = datamodule_class_crop_flip(**test_data_args_crop_flip)\n",
    "test_loader_crop_flip = test_dm_crop_flip.get_loader() # and get the loader from it\n",
    "\n",
    "trainer_class_aug_crop_flip = q3a_aug_crop_flip_config['trainer_module']\n",
    "trainer_class_aug_crop_flip = trainer_class_aug_crop_flip(\n",
    "    config = q3a_aug_crop_flip_config, \n",
    "    log_dir = ospj(PROJECT_ROOT,'Logs'),\n",
    "    train_loader=train_data_loader_crop_flip, \n",
    "    eval_loader=valid_data_loader_crop_flip,\n",
    ")"
   ]
  },
  {
   "cell_type": "code",
   "execution_count": 9,
   "metadata": {},
   "outputs": [
    {
     "name": "stderr",
     "output_type": "stream",
     "text": [
      "Train Epoch: 1 Loss: 1.4028: : 100% 45000/45000 [01:00<00:00, 742.12it/s] \n",
      "Eval Loss: 1.6967: : 100% 5000/5000 [00:29<00:00, 167.35it/s] \n",
      "Train Epoch: 2 Loss: 1.3857: : 100% 45000/45000 [00:56<00:00, 791.69it/s] \n",
      "Eval Loss: 1.4071: : 100% 5000/5000 [00:30<00:00, 164.27it/s]\n",
      "Train Epoch: 3 Loss: 1.0702: : 100% 45000/45000 [00:56<00:00, 796.18it/s] \n",
      "Eval Loss: 1.2295: : 100% 5000/5000 [00:31<00:00, 160.18it/s] \n",
      "Train Epoch: 4 Loss: 1.0888: : 100% 45000/45000 [00:56<00:00, 801.10it/s] \n",
      "Eval Loss: 1.0471: : 100% 5000/5000 [00:30<00:00, 162.54it/s] \n",
      "Train Epoch: 5 Loss: 0.9957: : 100% 45000/45000 [00:57<00:00, 782.53it/s] \n",
      "Eval Loss: 1.0492: : 100% 5000/5000 [00:30<00:00, 165.25it/s] \n",
      "Train Epoch: 6 Loss: 0.8645: : 100% 45000/45000 [00:56<00:00, 792.71it/s] \n",
      "Eval Loss: 0.8671: : 100% 5000/5000 [00:31<00:00, 160.16it/s] \n",
      "Train Epoch: 7 Loss: 1.0136: : 100% 45000/45000 [00:56<00:00, 798.05it/s] \n",
      "Eval Loss: 0.9223: : 100% 5000/5000 [00:30<00:00, 166.32it/s] \n",
      "Train Epoch: 8 Loss: 0.8821: : 100% 45000/45000 [00:56<00:00, 790.18it/s] \n",
      "Eval Loss: 0.7939: : 100% 5000/5000 [00:30<00:00, 164.96it/s] \n",
      "Train Epoch: 9 Loss: 0.7689: : 100% 45000/45000 [00:56<00:00, 790.33it/s] \n",
      "Eval Loss: 0.7776: : 100% 5000/5000 [00:31<00:00, 158.18it/s] \n",
      "Train Epoch: 10 Loss: 0.7589: : 100% 45000/45000 [00:56<00:00, 794.47it/s] \n",
      "Eval Loss: 0.7721: : 100% 5000/5000 [00:31<00:00, 160.24it/s] \n",
      "Train Epoch: 11 Loss: 0.8944: : 100% 45000/45000 [01:01<00:00, 736.67it/s] \n",
      "Eval Loss: 0.6971: : 100% 5000/5000 [00:31<00:00, 159.70it/s] \n",
      "Train Epoch: 12 Loss: 0.9785: : 100% 45000/45000 [00:56<00:00, 795.29it/s] \n",
      "Eval Loss: 0.7638: : 100% 5000/5000 [00:33<00:00, 151.15it/s]\n",
      "Train Epoch: 13 Loss: 0.7419: : 100% 45000/45000 [00:56<00:00, 793.07it/s] \n",
      "Eval Loss: 0.7219: : 100% 5000/5000 [00:29<00:00, 167.55it/s] \n",
      "Train Epoch: 14 Loss: 0.8418: : 100% 45000/45000 [00:56<00:00, 795.89it/s] \n",
      "Eval Loss: 0.8014: : 100% 5000/5000 [00:30<00:00, 165.45it/s] \n",
      "Train Epoch: 15 Loss: 0.8437: : 100% 45000/45000 [00:56<00:00, 794.60it/s] \n",
      "Eval Loss: 0.6500: : 100% 5000/5000 [00:31<00:00, 161.12it/s] \n",
      "Train Epoch: 16 Loss: 0.8620: : 100% 45000/45000 [00:56<00:00, 799.23it/s] \n",
      "Eval Loss: 0.6387: : 100% 5000/5000 [00:30<00:00, 164.65it/s] \n",
      "Train Epoch: 17 Loss: 0.7757: : 100% 45000/45000 [00:56<00:00, 795.74it/s] \n",
      "Eval Loss: 0.6572: : 100% 5000/5000 [00:30<00:00, 165.03it/s] \n",
      "Train Epoch: 18 Loss: 0.6761: : 100% 45000/45000 [00:56<00:00, 797.29it/s] \n",
      "Eval Loss: 0.6015: : 100% 5000/5000 [00:31<00:00, 159.25it/s] \n",
      "Train Epoch: 19 Loss: 0.7819: : 100% 45000/45000 [00:55<00:00, 804.36it/s] \n",
      "Eval Loss: 0.5804: : 100% 5000/5000 [00:30<00:00, 165.90it/s] \n",
      "Train Epoch: 20 Loss: 0.7725: : 100% 45000/45000 [00:56<00:00, 796.35it/s] \n",
      "Eval Loss: 0.6061: : 100% 5000/5000 [00:30<00:00, 164.38it/s] \n",
      "Train Epoch: 21 Loss: 0.6471: : 100% 45000/45000 [00:56<00:00, 794.85it/s] \n",
      "Eval Loss: 0.5740: : 100% 5000/5000 [00:31<00:00, 161.25it/s] \n",
      "Train Epoch: 22 Loss: 0.5504: : 100% 45000/45000 [00:56<00:00, 801.75it/s] \n",
      "Eval Loss: 0.5843: : 100% 5000/5000 [00:30<00:00, 164.36it/s] \n",
      "Train Epoch: 23 Loss: 0.6885: : 100% 45000/45000 [00:56<00:00, 795.90it/s] \n",
      "Eval Loss: 0.6335: : 100% 5000/5000 [00:30<00:00, 165.14it/s] \n",
      "Train Epoch: 24 Loss: 0.8079: : 100% 45000/45000 [00:57<00:00, 788.33it/s] \n",
      "Eval Loss: 0.5644: : 100% 5000/5000 [00:31<00:00, 159.52it/s]\n",
      "Train Epoch: 25 Loss: 0.7650: : 100% 45000/45000 [00:56<00:00, 799.61it/s] \n",
      "Eval Loss: 0.5734: : 100% 5000/5000 [00:30<00:00, 163.01it/s] \n"
     ]
    }
   ],
   "source": [
    "trainer_class_aug_crop_flip.train()"
   ]
  },
  {
   "cell_type": "code",
   "execution_count": 10,
   "metadata": {},
   "outputs": [
    {
     "name": "stderr",
     "output_type": "stream",
     "text": [
      "Eval Loss: 0.5686: : 100% 10000/10000 [00:32<00:00, 303.99it/s]"
     ]
    },
    {
     "name": "stdout",
     "output_type": "stream",
     "text": [
      "{'loss': 0.568742384314537, 'top1': 0.8053000000000001, 'top5': 0.9889999999999997}\n"
     ]
    },
    {
     "name": "stderr",
     "output_type": "stream",
     "text": [
      "\n"
     ]
    }
   ],
   "source": [
    "path = './Saved/CIFAR10_CNN_aug_crop_flip/last_model.pth'\n",
    "\n",
    "trainer_class_aug_crop_flip.load_model(path=path)\n",
    "\n",
    "result = trainer_class_aug_crop_flip.evaluate(loader=test_loader_crop_flip)\n",
    "\n",
    "print(result)"
   ]
  },
  {
   "cell_type": "code",
   "execution_count": 11,
   "metadata": {},
   "outputs": [
    {
     "name": "stdout",
     "output_type": "stream",
     "text": [
      "transforms for preset CIFAR10_WithCropFlipRotate for split train are Compose(\n",
      "    RandomCrop(size=(32, 32), padding=4)\n",
      "    RandomHorizontalFlip(p=0.5)\n",
      "    RandomRotation(degrees=[-10.0, 10.0], interpolation=nearest, expand=False, fill=0)\n",
      "    ToTensor()\n",
      "    Normalize(mean=(0.5, 0.5, 0.5), std=(0.5, 0.5, 0.5))\n",
      ")\n",
      "Initialization DataLoader for 45000 samples with {'batch_size': 200, 'shuffle': True, 'num_workers': 6}\n",
      "Initialization heldout DataLoader 5000 samples with {'batch_size': 200, 'shuffle': False, 'num_workers': 6}\n",
      "transforms for preset CIFAR10_WithCropFlipRotate for split eval are Compose(\n",
      "    ToTensor()\n",
      "    Normalize(mean=(0.5, 0.5, 0.5), std=(0.5, 0.5, 0.5))\n",
      ")\n",
      "Initialization DataLoader for 10000 samples with {'batch_size': 200, 'shuffle': False, 'num_workers': 6}\n"
     ]
    }
   ],
   "source": [
    "q3a_aug_crop_flip_rotate_config = cnn_cifar10.q3a_aug_crop_flip_rotate\n",
    "\n",
    "datamodule_class_crop_flip_rotate = q3a_aug_crop_flip_rotate_config['datamodule']\n",
    "data_args_crop_flip_rotate = q3a_aug_crop_flip_rotate_config['data_args']\n",
    "\n",
    "dm_crop_flip_rotate = datamodule_class_crop_flip_rotate(**data_args_crop_flip_rotate)\n",
    "\n",
    "train_data_loader_crop_flip_rotate = dm_crop_flip_rotate.get_loader()\n",
    "valid_data_loader_crop_flip_rotate = dm_crop_flip_rotate.get_heldout_loader()\n",
    "\n",
    "test_data_args_crop_flip_rotate = deepcopy(data_args_crop_flip_rotate) # copy the args\n",
    "test_data_args_crop_flip_rotate['training'] = False\n",
    "test_data_args_crop_flip_rotate['shuffle'] = False\n",
    "test_data_args_crop_flip_rotate['heldout_split'] = 0.0\n",
    "\n",
    "test_dm_crop_flip_rotate = datamodule_class_crop_flip_rotate(**test_data_args_crop_flip_rotate)\n",
    "test_loader_crop_flip_rotate = test_dm_crop_flip_rotate.get_loader() # and get the loader from it\n",
    "\n",
    "trainer_class_aug_crop_flip_rotate = q3a_aug_crop_flip_rotate_config['trainer_module']\n",
    "trainer_class_aug_crop_flip_rotate = trainer_class_aug_crop_flip_rotate(\n",
    "    config = q3a_aug_crop_flip_rotate_config, \n",
    "    log_dir = ospj(PROJECT_ROOT,'Logs'),\n",
    "    train_loader=train_data_loader_crop_flip_rotate, \n",
    "    eval_loader=valid_data_loader_crop_flip_rotate,\n",
    ")"
   ]
  },
  {
   "cell_type": "code",
   "execution_count": 12,
   "metadata": {},
   "outputs": [
    {
     "name": "stderr",
     "output_type": "stream",
     "text": [
      "Train Epoch: 1 Loss: 1.4503: : 100% 45000/45000 [00:56<00:00, 794.97it/s] \n",
      "Eval Loss: 1.6578: : 100% 5000/5000 [00:30<00:00, 164.72it/s] \n",
      "Train Epoch: 2 Loss: 1.3361: : 100% 45000/45000 [00:56<00:00, 796.85it/s] \n",
      "Eval Loss: 1.5027: : 100% 5000/5000 [00:30<00:00, 162.59it/s] \n",
      "Train Epoch: 3 Loss: 1.3514: : 100% 45000/45000 [00:56<00:00, 792.62it/s] \n",
      "Eval Loss: 1.1938: : 100% 5000/5000 [00:30<00:00, 161.95it/s] \n",
      "Train Epoch: 4 Loss: 1.2595: : 100% 45000/45000 [00:56<00:00, 792.20it/s] \n",
      "Eval Loss: 1.1842: : 100% 5000/5000 [00:30<00:00, 165.26it/s] \n",
      "Train Epoch: 5 Loss: 1.1638: : 100% 45000/45000 [00:56<00:00, 794.57it/s] \n",
      "Eval Loss: 1.0663: : 100% 5000/5000 [00:30<00:00, 162.20it/s] \n",
      "Train Epoch: 6 Loss: 1.1003: : 100% 45000/45000 [00:56<00:00, 793.32it/s] \n",
      "Eval Loss: 1.0741: : 100% 5000/5000 [00:30<00:00, 162.53it/s] \n",
      "Train Epoch: 7 Loss: 1.0631: : 100% 45000/45000 [00:56<00:00, 796.68it/s] \n",
      "Eval Loss: 0.8839: : 100% 5000/5000 [00:30<00:00, 165.98it/s] \n",
      "Train Epoch: 8 Loss: 1.0805: : 100% 45000/45000 [00:56<00:00, 793.76it/s] \n",
      "Eval Loss: 0.8612: : 100% 5000/5000 [00:30<00:00, 165.24it/s] \n",
      "Train Epoch: 9 Loss: 1.0291: : 100% 45000/45000 [00:56<00:00, 790.96it/s] \n",
      "Eval Loss: 0.8629: : 100% 5000/5000 [00:31<00:00, 160.55it/s] \n",
      "Train Epoch: 10 Loss: 0.9772: : 100% 45000/45000 [00:56<00:00, 801.92it/s] \n",
      "Eval Loss: 0.7939: : 100% 5000/5000 [00:29<00:00, 166.94it/s] \n",
      "Train Epoch: 11 Loss: 0.8478: : 100% 45000/45000 [00:56<00:00, 796.76it/s] \n",
      "Eval Loss: 0.9204: : 100% 5000/5000 [00:30<00:00, 165.96it/s] \n",
      "Train Epoch: 12 Loss: 0.9992: : 100% 45000/45000 [00:57<00:00, 785.40it/s] \n",
      "Eval Loss: 0.8995: : 100% 5000/5000 [00:31<00:00, 158.57it/s] \n",
      "Train Epoch: 13 Loss: 1.0774: : 100% 45000/45000 [00:56<00:00, 802.02it/s] \n",
      "Eval Loss: 0.8172: : 100% 5000/5000 [00:30<00:00, 164.15it/s] \n",
      "Train Epoch: 14 Loss: 1.0008: : 100% 45000/45000 [00:56<00:00, 799.30it/s] \n",
      "Eval Loss: 0.7796: : 100% 5000/5000 [00:30<00:00, 165.88it/s] \n",
      "Train Epoch: 15 Loss: 1.0011: : 100% 45000/45000 [00:57<00:00, 785.10it/s] \n",
      "Eval Loss: 0.7430: : 100% 5000/5000 [00:31<00:00, 160.64it/s] \n",
      "Train Epoch: 16 Loss: 0.9131: : 100% 45000/45000 [00:56<00:00, 799.06it/s] \n",
      "Eval Loss: 0.7441: : 100% 5000/5000 [00:30<00:00, 162.47it/s] \n",
      "Train Epoch: 17 Loss: 0.8859: : 100% 45000/45000 [00:56<00:00, 800.68it/s] \n",
      "Eval Loss: 0.6702: : 100% 5000/5000 [00:30<00:00, 165.81it/s] \n",
      "Train Epoch: 18 Loss: 0.9122: : 100% 45000/45000 [00:57<00:00, 789.26it/s] \n",
      "Eval Loss: 0.6841: : 100% 5000/5000 [00:30<00:00, 162.47it/s] \n",
      "Train Epoch: 19 Loss: 0.7754: : 100% 45000/45000 [00:56<00:00, 796.93it/s] \n",
      "Eval Loss: 0.6824: : 100% 5000/5000 [00:30<00:00, 161.58it/s] \n",
      "Train Epoch: 20 Loss: 0.8015: : 100% 45000/45000 [00:56<00:00, 801.52it/s] \n",
      "Eval Loss: 0.7223: : 100% 5000/5000 [00:30<00:00, 165.65it/s] \n",
      "Train Epoch: 21 Loss: 0.7109: : 100% 45000/45000 [00:56<00:00, 796.03it/s] \n",
      "Eval Loss: 0.6214: : 100% 5000/5000 [00:30<00:00, 163.73it/s] \n",
      "Train Epoch: 22 Loss: 0.9421: : 100% 45000/45000 [00:56<00:00, 792.35it/s] \n",
      "Eval Loss: 0.6651: : 100% 5000/5000 [00:31<00:00, 158.81it/s] \n",
      "Train Epoch: 23 Loss: 0.7958: : 100% 45000/45000 [00:56<00:00, 802.44it/s] \n",
      "Eval Loss: 0.6969: : 100% 5000/5000 [00:30<00:00, 163.30it/s] \n",
      "Train Epoch: 24 Loss: 0.9096: : 100% 45000/45000 [00:56<00:00, 796.38it/s] \n",
      "Eval Loss: 0.6422: : 100% 5000/5000 [00:31<00:00, 160.26it/s] \n",
      "Train Epoch: 25 Loss: 0.7780: : 100% 45000/45000 [00:56<00:00, 794.94it/s] \n",
      "Eval Loss: 0.6183: : 100% 5000/5000 [00:31<00:00, 159.88it/s] \n"
     ]
    }
   ],
   "source": [
    "trainer_class_aug_crop_flip_rotate.train()"
   ]
  },
  {
   "cell_type": "code",
   "execution_count": 13,
   "metadata": {},
   "outputs": [
    {
     "name": "stderr",
     "output_type": "stream",
     "text": [
      "Eval Loss: 0.5945: : 100% 10000/10000 [00:32<00:00, 306.35it/s]"
     ]
    },
    {
     "name": "stdout",
     "output_type": "stream",
     "text": [
      "{'loss': 0.5613177269697189, 'top1': 0.8106999999999995, 'top5': 0.9883999999999996}\n"
     ]
    },
    {
     "name": "stderr",
     "output_type": "stream",
     "text": [
      "\n"
     ]
    }
   ],
   "source": [
    "path = './Saved/CIFAR10_CNN_aug_crop_flip_rotate/last_model.pth'\n",
    "\n",
    "trainer_class_aug_crop_flip_rotate.load_model(path=path)\n",
    "\n",
    "result = trainer_class_aug_crop_flip_rotate.evaluate(loader=test_loader_crop_flip_rotate)\n",
    "\n",
    "print(result)"
   ]
  },
  {
   "cell_type": "code",
   "execution_count": 14,
   "metadata": {},
   "outputs": [
    {
     "name": "stdout",
     "output_type": "stream",
     "text": [
      "transforms for preset CIFAR10_WithColorJitter for split train are Compose(\n",
      "    RandomHorizontalFlip(p=0.5)\n",
      "    ColorJitter(brightness=(0.8, 1.2), contrast=(0.8, 1.2), saturation=(0.8, 1.2), hue=(-0.1, 0.1))\n",
      "    ToTensor()\n",
      "    Normalize(mean=(0.5, 0.5, 0.5), std=(0.5, 0.5, 0.5))\n",
      ")\n",
      "Initialization DataLoader for 45000 samples with {'batch_size': 200, 'shuffle': True, 'num_workers': 6}\n",
      "Initialization heldout DataLoader 5000 samples with {'batch_size': 200, 'shuffle': False, 'num_workers': 6}\n",
      "transforms for preset CIFAR10_WithColorJitter for split eval are Compose(\n",
      "    ToTensor()\n",
      "    Normalize(mean=(0.5, 0.5, 0.5), std=(0.5, 0.5, 0.5))\n",
      ")\n",
      "Initialization DataLoader for 10000 samples with {'batch_size': 200, 'shuffle': False, 'num_workers': 6}\n"
     ]
    }
   ],
   "source": [
    "q3a_aug_jitter_config = cnn_cifar10.q3a_aug_jitter\n",
    "\n",
    "datamodule_class_jitter = q3a_aug_jitter_config['datamodule']\n",
    "data_args_jitter = q3a_aug_jitter_config['data_args']\n",
    "\n",
    "dm_jitter = datamodule_class_jitter(**data_args_jitter)\n",
    "\n",
    "train_data_loader_jitter = dm_jitter.get_loader()\n",
    "valid_data_loader_jitter = dm_jitter.get_heldout_loader()\n",
    "\n",
    "test_data_args_jitter = deepcopy(data_args_jitter) # copy the args\n",
    "test_data_args_jitter['training'] = False\n",
    "test_data_args_jitter['shuffle'] = False\n",
    "test_data_args_jitter['heldout_split'] = 0.0\n",
    "\n",
    "test_dm_jitter = datamodule_class_jitter(**test_data_args_jitter)\n",
    "test_loader_jitter = test_dm_jitter.get_loader() # and get the loader from it\n",
    "\n",
    "trainer_class_aug_jitter = q3a_aug_jitter_config['trainer_module']\n",
    "trainer_class_aug_jitter = trainer_class_aug_jitter(\n",
    "    config = q3a_aug_jitter_config, \n",
    "    log_dir = ospj(PROJECT_ROOT,'Logs'),\n",
    "    train_loader=train_data_loader_jitter, \n",
    "    eval_loader=valid_data_loader_jitter,\n",
    ")"
   ]
  },
  {
   "cell_type": "code",
   "execution_count": 15,
   "metadata": {},
   "outputs": [
    {
     "name": "stderr",
     "output_type": "stream",
     "text": [
      "Train Epoch: 1 Loss: 1.3368: : 100% 45000/45000 [00:56<00:00, 789.84it/s] \n",
      "Eval Loss: 1.1642: : 100% 5000/5000 [00:31<00:00, 158.74it/s]\n",
      "Train Epoch: 2 Loss: 1.0685: : 100% 45000/45000 [00:56<00:00, 793.41it/s] \n",
      "Eval Loss: 1.2284: : 100% 5000/5000 [00:31<00:00, 159.41it/s]\n",
      "Train Epoch: 3 Loss: 1.2346: : 100% 45000/45000 [00:56<00:00, 792.91it/s] \n",
      "Eval Loss: 1.0423: : 100% 5000/5000 [00:31<00:00, 158.35it/s] \n",
      "Train Epoch: 4 Loss: 0.8799: : 100% 45000/45000 [00:56<00:00, 792.56it/s] \n",
      "Eval Loss: 1.0084: : 100% 5000/5000 [00:30<00:00, 162.86it/s]\n",
      "Train Epoch: 5 Loss: 1.0216: : 100% 45000/45000 [00:56<00:00, 790.76it/s] \n",
      "Eval Loss: 0.8728: : 100% 5000/5000 [00:31<00:00, 160.42it/s]\n",
      "Train Epoch: 6 Loss: 1.0343: : 100% 45000/45000 [00:56<00:00, 789.62it/s] \n",
      "Eval Loss: 0.8354: : 100% 5000/5000 [00:31<00:00, 158.49it/s]\n",
      "Train Epoch: 7 Loss: 0.8431: : 100% 45000/45000 [00:56<00:00, 798.66it/s] \n",
      "Eval Loss: 0.9251: : 100% 5000/5000 [00:30<00:00, 161.89it/s]\n",
      "Train Epoch: 8 Loss: 0.7587: : 100% 45000/45000 [00:57<00:00, 788.41it/s] \n",
      "Eval Loss: 0.6861: : 100% 5000/5000 [00:31<00:00, 159.40it/s]\n",
      "Train Epoch: 9 Loss: 0.9526: : 100% 45000/45000 [00:56<00:00, 792.30it/s] \n",
      "Eval Loss: 0.7089: : 100% 5000/5000 [00:31<00:00, 158.23it/s]\n",
      "Train Epoch: 10 Loss: 0.8247: : 100% 45000/45000 [00:56<00:00, 796.93it/s] \n",
      "Eval Loss: 0.8028: : 100% 5000/5000 [00:30<00:00, 162.06it/s]\n",
      "Train Epoch: 11 Loss: 0.8400: : 100% 45000/45000 [00:57<00:00, 787.50it/s] \n",
      "Eval Loss: 0.6636: : 100% 5000/5000 [00:31<00:00, 160.48it/s]\n",
      "Train Epoch: 12 Loss: 0.7939: : 100% 45000/45000 [00:56<00:00, 790.45it/s] \n",
      "Eval Loss: 0.6566: : 100% 5000/5000 [00:31<00:00, 158.38it/s] \n",
      "Train Epoch: 13 Loss: 0.6988: : 100% 45000/45000 [00:56<00:00, 796.62it/s] \n",
      "Eval Loss: 0.7300: : 100% 5000/5000 [00:30<00:00, 162.44it/s]\n",
      "Train Epoch: 14 Loss: 0.6860: : 100% 45000/45000 [00:56<00:00, 793.92it/s] \n",
      "Eval Loss: 0.6721: : 100% 5000/5000 [00:30<00:00, 161.70it/s]\n",
      "Train Epoch: 15 Loss: 0.7364: : 100% 45000/45000 [00:57<00:00, 788.24it/s] \n",
      "Eval Loss: 0.6123: : 100% 5000/5000 [00:32<00:00, 155.53it/s]\n",
      "Train Epoch: 16 Loss: 0.7259: : 100% 45000/45000 [00:56<00:00, 795.75it/s] \n",
      "Eval Loss: 0.6575: : 100% 5000/5000 [00:31<00:00, 160.95it/s] \n",
      "Train Epoch: 17 Loss: 0.7780: : 100% 45000/45000 [00:56<00:00, 792.13it/s] \n",
      "Eval Loss: 0.6024: : 100% 5000/5000 [00:30<00:00, 162.07it/s]\n",
      "Train Epoch: 18 Loss: 0.7409: : 100% 45000/45000 [00:57<00:00, 785.17it/s] \n",
      "Eval Loss: 0.4854: : 100% 5000/5000 [00:32<00:00, 155.81it/s]\n",
      "Train Epoch: 19 Loss: 0.7196: : 100% 45000/45000 [00:56<00:00, 800.22it/s] \n",
      "Eval Loss: 0.5571: : 100% 5000/5000 [00:30<00:00, 162.41it/s]\n",
      "Train Epoch: 20 Loss: 0.5821: : 100% 45000/45000 [00:56<00:00, 794.58it/s] \n",
      "Eval Loss: 0.5589: : 100% 5000/5000 [00:30<00:00, 162.23it/s]\n",
      "Train Epoch: 21 Loss: 0.8217: : 100% 45000/45000 [00:57<00:00, 784.97it/s] \n",
      "Eval Loss: 0.5296: : 100% 5000/5000 [00:31<00:00, 157.03it/s]\n",
      "Train Epoch: 22 Loss: 0.5098: : 100% 45000/45000 [00:56<00:00, 801.72it/s] \n",
      "Eval Loss: 0.4854: : 100% 5000/5000 [00:31<00:00, 160.65it/s]\n",
      "Train Epoch: 23 Loss: 0.6958: : 100% 45000/45000 [00:56<00:00, 801.13it/s] \n",
      "Eval Loss: 0.4845: : 100% 5000/5000 [00:30<00:00, 163.78it/s] \n",
      "Train Epoch: 24 Loss: 0.6454: : 100% 45000/45000 [00:57<00:00, 785.70it/s] \n",
      "Eval Loss: 0.5138: : 100% 5000/5000 [00:31<00:00, 156.32it/s]\n",
      "Train Epoch: 25 Loss: 0.6303: : 100% 45000/45000 [00:56<00:00, 798.45it/s] \n",
      "Eval Loss: 0.4758: : 100% 5000/5000 [00:31<00:00, 160.44it/s]\n"
     ]
    }
   ],
   "source": [
    "trainer_class_aug_jitter.train()"
   ]
  },
  {
   "cell_type": "code",
   "execution_count": 16,
   "metadata": {},
   "outputs": [
    {
     "name": "stderr",
     "output_type": "stream",
     "text": [
      "Eval Loss: 0.5390: : 100% 10000/10000 [00:33<00:00, 294.48it/s]"
     ]
    },
    {
     "name": "stdout",
     "output_type": "stream",
     "text": [
      "{'loss': 0.5130011993646622, 'top1': 0.8302999999999998, 'top5': 0.9907999999999998}\n"
     ]
    },
    {
     "name": "stderr",
     "output_type": "stream",
     "text": [
      "\n"
     ]
    }
   ],
   "source": [
    "path = './Saved/CIFAR10_CNN_aug_jitter/last_model.pth'\n",
    "\n",
    "trainer_class_aug_jitter.load_model(path=path)\n",
    "\n",
    "result = trainer_class_aug_jitter.evaluate(loader=test_loader_jitter)\n",
    "\n",
    "print(result)"
   ]
  },
  {
   "cell_type": "code",
   "execution_count": 17,
   "metadata": {},
   "outputs": [
    {
     "name": "stdout",
     "output_type": "stream",
     "text": [
      "transforms for preset CIFAR10_Aggressive for split train are Compose(\n",
      "    RandomCrop(size=(32, 32), padding=4)\n",
      "    RandomHorizontalFlip(p=0.5)\n",
      "    RandomRotation(degrees=[-10.0, 10.0], interpolation=nearest, expand=False, fill=0)\n",
      "    ColorJitter(brightness=(0.8, 1.2), contrast=(0.8, 1.2), saturation=(0.8, 1.2), hue=(-0.1, 0.1))\n",
      "    ToTensor()\n",
      "    Normalize(mean=(0.5, 0.5, 0.5), std=(0.5, 0.5, 0.5))\n",
      ")\n",
      "Initialization DataLoader for 45000 samples with {'batch_size': 200, 'shuffle': True, 'num_workers': 6}\n",
      "Initialization heldout DataLoader 5000 samples with {'batch_size': 200, 'shuffle': False, 'num_workers': 6}\n",
      "transforms for preset CIFAR10_Aggressive for split eval are Compose(\n",
      "    ToTensor()\n",
      "    Normalize(mean=(0.5, 0.5, 0.5), std=(0.5, 0.5, 0.5))\n",
      ")\n",
      "Initialization DataLoader for 10000 samples with {'batch_size': 200, 'shuffle': False, 'num_workers': 6}\n"
     ]
    }
   ],
   "source": [
    "q3a_aug_aggressive_config = cnn_cifar10.q3a_aug_aggressive\n",
    "\n",
    "datamodule_class_aggressive = q3a_aug_aggressive_config['datamodule']\n",
    "data_args_aggressive = q3a_aug_aggressive_config['data_args']\n",
    "\n",
    "dm_aggressive = datamodule_class_aggressive(**data_args_aggressive)\n",
    "\n",
    "train_data_loader_aggressive = dm_aggressive.get_loader()\n",
    "valid_data_loader_aggressive = dm_aggressive.get_heldout_loader()\n",
    "\n",
    "test_data_args_aggressive = deepcopy(data_args_aggressive) # copy the args\n",
    "test_data_args_aggressive['training'] = False\n",
    "test_data_args_aggressive['shuffle'] = False\n",
    "test_data_args_aggressive['heldout_split'] = 0.0\n",
    "\n",
    "test_dm_aggressive = datamodule_class_aggressive(**test_data_args_aggressive)\n",
    "test_loader_aggressive = test_dm_aggressive.get_loader() # and get the loader from it\n",
    "\n",
    "trainer_class_aug_aggressive = q3a_aug_aggressive_config['trainer_module']\n",
    "trainer_class_aug_aggressive = trainer_class_aug_aggressive(\n",
    "    config = q3a_aug_aggressive_config, \n",
    "    log_dir = ospj(PROJECT_ROOT,'Logs'),\n",
    "    train_loader=train_data_loader_aggressive, \n",
    "    eval_loader=valid_data_loader_aggressive,\n",
    ")"
   ]
  },
  {
   "cell_type": "code",
   "execution_count": 18,
   "metadata": {},
   "outputs": [
    {
     "name": "stderr",
     "output_type": "stream",
     "text": [
      "Train Epoch: 1 Loss: 1.5677: : 100% 45000/45000 [00:57<00:00, 785.32it/s] \n",
      "Eval Loss: 1.7370: : 100% 5000/5000 [00:30<00:00, 163.22it/s] \n",
      "Train Epoch: 2 Loss: 1.3452: : 100% 45000/45000 [00:56<00:00, 792.57it/s] \n",
      "Eval Loss: 1.3139: : 100% 5000/5000 [00:30<00:00, 163.84it/s] \n",
      "Train Epoch: 3 Loss: 1.3910: : 100% 45000/45000 [00:57<00:00, 788.99it/s] \n",
      "Eval Loss: 1.2418: : 100% 5000/5000 [00:31<00:00, 157.71it/s] \n",
      "Train Epoch: 4 Loss: 1.1334: : 100% 45000/45000 [00:56<00:00, 793.42it/s] \n",
      "Eval Loss: 1.2724: : 100% 5000/5000 [00:31<00:00, 160.06it/s] \n",
      "Train Epoch: 5 Loss: 1.1613: : 100% 45000/45000 [00:57<00:00, 786.33it/s] \n",
      "Eval Loss: 1.3589: : 100% 5000/5000 [00:30<00:00, 163.31it/s] \n",
      "Train Epoch: 6 Loss: 1.1531: : 100% 45000/45000 [00:56<00:00, 792.29it/s] \n",
      "Eval Loss: 1.0917: : 100% 5000/5000 [00:31<00:00, 160.81it/s] \n",
      "Train Epoch: 7 Loss: 1.1689: : 100% 45000/45000 [00:56<00:00, 793.03it/s] \n",
      "Eval Loss: 0.9702: : 100% 5000/5000 [00:31<00:00, 160.92it/s] \n",
      "Train Epoch: 8 Loss: 1.0942: : 100% 45000/45000 [00:56<00:00, 792.84it/s] \n",
      "Eval Loss: 0.9422: : 100% 5000/5000 [00:30<00:00, 161.35it/s] \n",
      "Train Epoch: 9 Loss: 0.9640: : 100% 45000/45000 [00:56<00:00, 794.77it/s] \n",
      "Eval Loss: 0.9364: : 100% 5000/5000 [00:31<00:00, 161.17it/s] \n",
      "Train Epoch: 10 Loss: 1.1138: : 100% 45000/45000 [00:57<00:00, 788.97it/s] \n",
      "Eval Loss: 0.8732: : 100% 5000/5000 [00:30<00:00, 161.38it/s] \n",
      "Train Epoch: 11 Loss: 0.9246: : 100% 45000/45000 [00:56<00:00, 790.51it/s] \n",
      "Eval Loss: 0.8954: : 100% 5000/5000 [00:30<00:00, 161.88it/s] \n",
      "Train Epoch: 12 Loss: 1.0315: : 100% 45000/45000 [00:56<00:00, 798.43it/s] \n",
      "Eval Loss: 0.8426: : 100% 5000/5000 [00:30<00:00, 163.06it/s] \n",
      "Train Epoch: 13 Loss: 0.9396: : 100% 45000/45000 [00:56<00:00, 792.16it/s] \n",
      "Eval Loss: 0.7976: : 100% 5000/5000 [00:30<00:00, 163.32it/s] \n",
      "Train Epoch: 14 Loss: 1.0614: : 100% 45000/45000 [00:57<00:00, 789.18it/s] \n",
      "Eval Loss: 0.9351: : 100% 5000/5000 [00:30<00:00, 161.71it/s] \n",
      "Train Epoch: 15 Loss: 0.9684: : 100% 45000/45000 [00:56<00:00, 802.20it/s] \n",
      "Eval Loss: 0.7653: : 100% 5000/5000 [00:30<00:00, 164.21it/s] \n",
      "Train Epoch: 16 Loss: 0.9222: : 100% 45000/45000 [00:56<00:00, 792.09it/s] \n",
      "Eval Loss: 0.8459: : 100% 5000/5000 [00:30<00:00, 161.51it/s] \n",
      "Train Epoch: 17 Loss: 1.1293: : 100% 45000/45000 [00:57<00:00, 786.93it/s] \n",
      "Eval Loss: 0.7584: : 100% 5000/5000 [00:31<00:00, 160.39it/s] \n",
      "Train Epoch: 18 Loss: 0.9149: : 100% 45000/45000 [00:56<00:00, 793.32it/s] \n",
      "Eval Loss: 0.6964: : 100% 5000/5000 [00:31<00:00, 160.36it/s] \n",
      "Train Epoch: 19 Loss: 0.8121: : 100% 45000/45000 [00:56<00:00, 797.48it/s] \n",
      "Eval Loss: 0.7071: : 100% 5000/5000 [00:30<00:00, 163.25it/s] \n",
      "Train Epoch: 20 Loss: 0.8317: : 100% 45000/45000 [00:57<00:00, 787.48it/s] \n",
      "Eval Loss: 0.7706: : 100% 5000/5000 [00:31<00:00, 159.07it/s]\n",
      "Train Epoch: 21 Loss: 0.7782: : 100% 45000/45000 [00:56<00:00, 796.49it/s] \n",
      "Eval Loss: 0.7249: : 100% 5000/5000 [00:31<00:00, 160.19it/s] \n",
      "Train Epoch: 22 Loss: 0.6517: : 100% 45000/45000 [00:56<00:00, 797.54it/s] \n",
      "Eval Loss: 0.6737: : 100% 5000/5000 [00:30<00:00, 164.75it/s] \n",
      "Train Epoch: 23 Loss: 0.8763: : 100% 45000/45000 [00:57<00:00, 784.71it/s] \n",
      "Eval Loss: 0.7016: : 100% 5000/5000 [00:31<00:00, 160.81it/s] \n",
      "Train Epoch: 24 Loss: 1.0075: : 100% 45000/45000 [00:56<00:00, 797.89it/s] \n",
      "Eval Loss: 0.7359: : 100% 5000/5000 [00:31<00:00, 159.93it/s] \n",
      "Train Epoch: 25 Loss: 0.8473: : 100% 45000/45000 [00:56<00:00, 793.96it/s] \n",
      "Eval Loss: 0.6349: : 100% 5000/5000 [00:30<00:00, 163.23it/s] \n"
     ]
    }
   ],
   "source": [
    "trainer_class_aug_aggressive.train()"
   ]
  },
  {
   "cell_type": "code",
   "execution_count": 19,
   "metadata": {},
   "outputs": [
    {
     "name": "stderr",
     "output_type": "stream",
     "text": [
      "Eval Loss: 0.5880: : 100% 10000/10000 [00:32<00:00, 304.11it/s]"
     ]
    },
    {
     "name": "stdout",
     "output_type": "stream",
     "text": [
      "{'loss': 0.5901691317558289, 'top1': 0.8016, 'top5': 0.9885}\n"
     ]
    },
    {
     "name": "stderr",
     "output_type": "stream",
     "text": [
      "\n"
     ]
    }
   ],
   "source": [
    "path = './Saved/CIFAR10_CNN_aug_aggressive/last_model.pth'\n",
    "\n",
    "trainer_class_aug_aggressive.load_model(path=path)\n",
    "\n",
    "result = trainer_class_aug_aggressive.evaluate(loader=test_loader_aggressive)\n",
    "\n",
    "print(result)"
   ]
  },
  {
   "cell_type": "code",
   "execution_count": 20,
   "metadata": {},
   "outputs": [
    {
     "name": "stdout",
     "output_type": "stream",
     "text": [
      "transforms for preset CIFAR10 for split train are Compose(\n",
      "    ToTensor()\n",
      "    Normalize(mean=(0.5, 0.5, 0.5), std=(0.5, 0.5, 0.5))\n",
      ")\n",
      "Initialization DataLoader for 45000 samples with {'batch_size': 200, 'shuffle': True, 'num_workers': 6}\n",
      "Initialization heldout DataLoader 5000 samples with {'batch_size': 200, 'shuffle': False, 'num_workers': 6}\n",
      "transforms for preset CIFAR10 for split eval are Compose(\n",
      "    ToTensor()\n",
      "    Normalize(mean=(0.5, 0.5, 0.5), std=(0.5, 0.5, 0.5))\n",
      ")\n",
      "Initialization DataLoader for 10000 samples with {'batch_size': 200, 'shuffle': False, 'num_workers': 6}\n"
     ]
    }
   ],
   "source": [
    "q3b_dropout0_config = cnn_cifar10.q3b_dropout0\n",
    "\n",
    "datamodule_class_dropout0 = q3b_dropout0_config['datamodule']\n",
    "data_args_dropout0 = q3b_dropout0_config['data_args']\n",
    "\n",
    "dm_dropout0 = datamodule_class_dropout0(**data_args_dropout0)\n",
    "\n",
    "train_data_loader_dropout0 = dm_dropout0.get_loader()\n",
    "valid_data_loader_dropout0 = dm_dropout0.get_heldout_loader()\n",
    "\n",
    "test_data_args_dropout0 = deepcopy(data_args_dropout0) # copy the args\n",
    "test_data_args_dropout0['training'] = False\n",
    "test_data_args_dropout0['shuffle'] = False\n",
    "test_data_args_dropout0['heldout_split'] = 0.0\n",
    "\n",
    "test_dm_dropout0 = datamodule_class_dropout0(**test_data_args_dropout0)\n",
    "test_loader_dropout0 = test_dm_dropout0.get_loader() # and get the loader from it\n",
    "\n",
    "trainer_class_dropout0 = q3b_dropout0_config['trainer_module']\n",
    "trainer_class_dropout0 = trainer_class_dropout0(\n",
    "    config = q3b_dropout0_config, \n",
    "    log_dir = ospj(PROJECT_ROOT,'Logs'),\n",
    "    train_loader=train_data_loader_dropout0, \n",
    "    eval_loader=valid_data_loader_dropout0,\n",
    ")"
   ]
  },
  {
   "cell_type": "code",
   "execution_count": 21,
   "metadata": {},
   "outputs": [
    {
     "name": "stderr",
     "output_type": "stream",
     "text": [
      "Train Epoch: 1 Loss: 1.0641: : 100% 45000/45000 [00:55<00:00, 804.26it/s] \n",
      "Eval Loss: 1.2254: : 100% 5000/5000 [00:32<00:00, 155.54it/s]\n",
      "Train Epoch: 2 Loss: 1.0491: : 100% 45000/45000 [01:01<00:00, 737.32it/s] \n",
      "Eval Loss: 1.2519: : 100% 5000/5000 [00:32<00:00, 155.36it/s] \n",
      "Train Epoch: 3 Loss: 0.8161: : 100% 45000/45000 [00:57<00:00, 783.00it/s] \n",
      "Eval Loss: 1.3610: : 100% 5000/5000 [00:32<00:00, 156.00it/s] \n",
      "Train Epoch: 4 Loss: 0.7483: : 100% 45000/45000 [00:56<00:00, 795.44it/s] \n",
      "Eval Loss: 0.9434: : 100% 5000/5000 [00:31<00:00, 161.03it/s]\n",
      "Train Epoch: 5 Loss: 0.7000: : 100% 45000/45000 [00:57<00:00, 780.91it/s] \n",
      "Eval Loss: 0.8029: : 100% 5000/5000 [00:31<00:00, 157.23it/s] \n",
      "Train Epoch: 6 Loss: 0.5688: : 100% 45000/45000 [00:57<00:00, 784.91it/s] \n",
      "Eval Loss: 0.8200: : 100% 5000/5000 [00:31<00:00, 158.61it/s] \n",
      "Train Epoch: 7 Loss: 0.4564: : 100% 45000/45000 [00:55<00:00, 804.16it/s] \n",
      "Eval Loss: 0.5846: : 100% 5000/5000 [00:30<00:00, 164.03it/s] \n",
      "Train Epoch: 8 Loss: 0.4766: : 100% 45000/45000 [00:56<00:00, 797.36it/s] \n",
      "Eval Loss: 0.7207: : 100% 5000/5000 [00:31<00:00, 158.84it/s]\n",
      "Train Epoch: 9 Loss: 0.4458: : 100% 45000/45000 [00:56<00:00, 793.53it/s] \n",
      "Eval Loss: 0.6643: : 100% 5000/5000 [00:35<00:00, 142.34it/s]\n",
      "Train Epoch: 10 Loss: 0.3596: : 100% 45000/45000 [00:58<00:00, 775.62it/s] \n",
      "Eval Loss: 0.6786: : 100% 5000/5000 [00:32<00:00, 152.71it/s]\n"
     ]
    }
   ],
   "source": [
    "trainer_class_dropout0.train()"
   ]
  },
  {
   "cell_type": "code",
   "execution_count": 22,
   "metadata": {},
   "outputs": [
    {
     "name": "stderr",
     "output_type": "stream",
     "text": [
      "Eval Loss: 0.8603: : 100% 10000/10000 [00:33<00:00, 294.70it/s]"
     ]
    },
    {
     "name": "stdout",
     "output_type": "stream",
     "text": [
      "{'loss': 0.7006371092796325, 'top1': 0.7705999999999998, 'top5': 0.9864999999999998}\n"
     ]
    },
    {
     "name": "stderr",
     "output_type": "stream",
     "text": [
      "\n"
     ]
    }
   ],
   "source": [
    "path = './Saved/CIFAR10_drop_0/last_model.pth'\n",
    "\n",
    "trainer_class_dropout0.load_model(path=path)\n",
    "\n",
    "result = trainer_class_dropout0.evaluate(loader=test_loader_dropout0)\n",
    "\n",
    "print(result)"
   ]
  },
  {
   "cell_type": "code",
   "execution_count": 23,
   "metadata": {},
   "outputs": [
    {
     "name": "stdout",
     "output_type": "stream",
     "text": [
      "transforms for preset CIFAR10 for split train are Compose(\n",
      "    ToTensor()\n",
      "    Normalize(mean=(0.5, 0.5, 0.5), std=(0.5, 0.5, 0.5))\n",
      ")\n",
      "Initialization DataLoader for 45000 samples with {'batch_size': 200, 'shuffle': True, 'num_workers': 6}\n",
      "Initialization heldout DataLoader 5000 samples with {'batch_size': 200, 'shuffle': False, 'num_workers': 6}\n",
      "transforms for preset CIFAR10 for split eval are Compose(\n",
      "    ToTensor()\n",
      "    Normalize(mean=(0.5, 0.5, 0.5), std=(0.5, 0.5, 0.5))\n",
      ")\n",
      "Initialization DataLoader for 10000 samples with {'batch_size': 200, 'shuffle': False, 'num_workers': 6}\n"
     ]
    }
   ],
   "source": [
    "q3b_dropout2_config = cnn_cifar10.q3b_dropout2\n",
    "\n",
    "datamodule_class_dropout2 = q3b_dropout2_config['datamodule']\n",
    "data_args_dropout2 = q3b_dropout2_config['data_args']\n",
    "\n",
    "dm_dropout2 = datamodule_class_dropout2(**data_args_dropout2)\n",
    "\n",
    "train_data_loader_dropout2 = dm_dropout2.get_loader()\n",
    "valid_data_loader_dropout2 = dm_dropout2.get_heldout_loader()\n",
    "\n",
    "test_data_args_dropout2 = deepcopy(data_args_dropout2) # copy the args\n",
    "test_data_args_dropout2['training'] = False\n",
    "test_data_args_dropout2['shuffle'] = False\n",
    "test_data_args_dropout2['heldout_split'] = 0.0\n",
    "\n",
    "test_dm_dropout2 = datamodule_class_dropout2(**test_data_args_dropout2)\n",
    "test_loader_dropout2 = test_dm_dropout2.get_loader() # and get the loader from it\n",
    "\n",
    "trainer_class_dropout2 = q3b_dropout2_config['trainer_module']\n",
    "trainer_class_dropout2 = trainer_class_dropout2(\n",
    "    config = q3b_dropout2_config, \n",
    "    log_dir = ospj(PROJECT_ROOT,'Logs'),\n",
    "    train_loader=train_data_loader_dropout2, \n",
    "    eval_loader=valid_data_loader_dropout2,\n",
    ")"
   ]
  },
  {
   "cell_type": "code",
   "execution_count": 24,
   "metadata": {},
   "outputs": [
    {
     "name": "stderr",
     "output_type": "stream",
     "text": [
      "Train Epoch: 1 Loss: 1.2870: : 100% 45000/45000 [00:57<00:00, 777.92it/s] \n",
      "Eval Loss: 1.3523: : 100% 5000/5000 [00:31<00:00, 161.16it/s] \n",
      "Train Epoch: 2 Loss: 1.0743: : 100% 45000/45000 [00:57<00:00, 787.98it/s] \n",
      "Eval Loss: 1.1855: : 100% 5000/5000 [00:31<00:00, 160.16it/s]\n",
      "Train Epoch: 3 Loss: 1.0064: : 100% 45000/45000 [00:57<00:00, 788.45it/s] \n",
      "Eval Loss: 1.3486: : 100% 5000/5000 [00:31<00:00, 157.63it/s]\n",
      "Train Epoch: 4 Loss: 0.7897: : 100% 45000/45000 [00:56<00:00, 798.82it/s] \n",
      "Eval Loss: 1.1125: : 100% 5000/5000 [00:30<00:00, 162.18it/s] \n",
      "Train Epoch: 5 Loss: 0.6798: : 100% 45000/45000 [00:56<00:00, 793.84it/s] \n",
      "Eval Loss: 1.0612: : 100% 5000/5000 [00:30<00:00, 162.65it/s]\n",
      "Train Epoch: 6 Loss: 0.7450: : 100% 45000/45000 [00:57<00:00, 787.67it/s] \n",
      "Eval Loss: 0.6861: : 100% 5000/5000 [00:31<00:00, 157.46it/s] \n",
      "Train Epoch: 7 Loss: 0.7452: : 100% 45000/45000 [00:56<00:00, 799.34it/s] \n",
      "Eval Loss: 0.6621: : 100% 5000/5000 [00:31<00:00, 158.89it/s]\n",
      "Train Epoch: 8 Loss: 0.6479: : 100% 45000/45000 [00:56<00:00, 794.00it/s] \n",
      "Eval Loss: 0.6868: : 100% 5000/5000 [00:30<00:00, 163.89it/s]\n",
      "Train Epoch: 9 Loss: 0.6906: : 100% 45000/45000 [00:57<00:00, 786.11it/s] \n",
      "Eval Loss: 0.6023: : 100% 5000/5000 [00:32<00:00, 155.98it/s]\n",
      "Train Epoch: 10 Loss: 0.5930: : 100% 45000/45000 [00:55<00:00, 804.35it/s] \n",
      "Eval Loss: 0.5468: : 100% 5000/5000 [00:31<00:00, 159.78it/s]\n"
     ]
    }
   ],
   "source": [
    "trainer_class_dropout2.train()"
   ]
  },
  {
   "cell_type": "code",
   "execution_count": 25,
   "metadata": {},
   "outputs": [
    {
     "name": "stderr",
     "output_type": "stream",
     "text": [
      "Eval Loss: 0.6341: : 100% 10000/10000 [00:34<00:00, 293.59it/s]"
     ]
    },
    {
     "name": "stdout",
     "output_type": "stream",
     "text": [
      "{'loss': 0.6237573456764222, 'top1': 0.7861, 'top5': 0.9854999999999996}\n"
     ]
    },
    {
     "name": "stderr",
     "output_type": "stream",
     "text": [
      "\n"
     ]
    }
   ],
   "source": [
    "path = './Saved/CIFAR10_drop_2/last_model.pth'\n",
    "\n",
    "trainer_class_dropout2.load_model(path=path)\n",
    "\n",
    "result = trainer_class_dropout2.evaluate(loader=test_loader_dropout2)\n",
    "\n",
    "print(result)"
   ]
  },
  {
   "cell_type": "code",
   "execution_count": 26,
   "metadata": {},
   "outputs": [
    {
     "name": "stdout",
     "output_type": "stream",
     "text": [
      "transforms for preset CIFAR10 for split train are Compose(\n",
      "    ToTensor()\n",
      "    Normalize(mean=(0.5, 0.5, 0.5), std=(0.5, 0.5, 0.5))\n",
      ")\n",
      "Initialization DataLoader for 45000 samples with {'batch_size': 200, 'shuffle': True, 'num_workers': 6}\n",
      "Initialization heldout DataLoader 5000 samples with {'batch_size': 200, 'shuffle': False, 'num_workers': 6}\n",
      "transforms for preset CIFAR10 for split eval are Compose(\n",
      "    ToTensor()\n",
      "    Normalize(mean=(0.5, 0.5, 0.5), std=(0.5, 0.5, 0.5))\n",
      ")\n",
      "Initialization DataLoader for 10000 samples with {'batch_size': 200, 'shuffle': False, 'num_workers': 6}\n"
     ]
    }
   ],
   "source": [
    "q3b_dropout6_config = cnn_cifar10.q3b_dropout6\n",
    "\n",
    "datamodule_class_dropout6 = q3b_dropout6_config['datamodule']\n",
    "data_args_dropout6 = q3b_dropout6_config['data_args']\n",
    "\n",
    "dm_dropout6 = datamodule_class_dropout6(**data_args_dropout6)\n",
    "\n",
    "train_data_loader_dropout6 = dm_dropout6.get_loader()\n",
    "valid_data_loader_dropout6 = dm_dropout6.get_heldout_loader()\n",
    "\n",
    "test_data_args_dropout6 = deepcopy(data_args_dropout6) # copy the args\n",
    "test_data_args_dropout6['training'] = False\n",
    "test_data_args_dropout6['shuffle'] = False\n",
    "test_data_args_dropout6['heldout_split'] = 0.0\n",
    "\n",
    "test_dm_dropout6 = datamodule_class_dropout6(**test_data_args_dropout6)\n",
    "test_loader_dropout6 = test_dm_dropout6.get_loader() # and get the loader from it\n",
    "\n",
    "trainer_class_dropout6 = q3b_dropout6_config['trainer_module']\n",
    "trainer_class_dropout6 = trainer_class_dropout6(\n",
    "    config = q3b_dropout6_config, \n",
    "    log_dir = ospj(PROJECT_ROOT,'Logs'),\n",
    "    train_loader=train_data_loader_dropout6, \n",
    "    eval_loader=valid_data_loader_dropout6,\n",
    ")"
   ]
  },
  {
   "cell_type": "code",
   "execution_count": 27,
   "metadata": {},
   "outputs": [
    {
     "name": "stderr",
     "output_type": "stream",
     "text": [
      "Train Epoch: 1 Loss: 1.6236: : 100% 45000/45000 [00:57<00:00, 785.08it/s] \n",
      "Eval Loss: 1.4687: : 100% 5000/5000 [00:31<00:00, 159.75it/s]\n",
      "Train Epoch: 2 Loss: 1.2698: : 100% 45000/45000 [00:56<00:00, 792.60it/s] \n",
      "Eval Loss: 1.7921: : 100% 5000/5000 [00:30<00:00, 161.66it/s]\n",
      "Train Epoch: 3 Loss: 1.2582: : 100% 45000/45000 [00:56<00:00, 796.17it/s] \n",
      "Eval Loss: 1.2104: : 100% 5000/5000 [00:31<00:00, 158.05it/s]\n",
      "Train Epoch: 4 Loss: 1.1584: : 100% 45000/45000 [00:56<00:00, 793.44it/s] \n",
      "Eval Loss: 1.1731: : 100% 5000/5000 [00:30<00:00, 161.86it/s] \n",
      "Train Epoch: 5 Loss: 1.1468: : 100% 45000/45000 [00:56<00:00, 792.61it/s] \n",
      "Eval Loss: 1.0359: : 100% 5000/5000 [00:30<00:00, 162.42it/s] \n",
      "Train Epoch: 6 Loss: 1.0583: : 100% 45000/45000 [00:56<00:00, 790.54it/s] \n",
      "Eval Loss: 0.9285: : 100% 5000/5000 [00:31<00:00, 160.59it/s]\n",
      "Train Epoch: 7 Loss: 1.0905: : 100% 45000/45000 [00:56<00:00, 790.02it/s] \n",
      "Eval Loss: 0.8365: : 100% 5000/5000 [00:30<00:00, 161.45it/s]\n",
      "Train Epoch: 8 Loss: 1.1503: : 100% 45000/45000 [00:56<00:00, 792.59it/s] \n",
      "Eval Loss: 0.9594: : 100% 5000/5000 [00:30<00:00, 162.79it/s]\n",
      "Train Epoch: 9 Loss: 1.1211: : 100% 45000/45000 [00:56<00:00, 790.93it/s] \n",
      "Eval Loss: 0.8824: : 100% 5000/5000 [00:31<00:00, 160.97it/s]\n",
      "Train Epoch: 10 Loss: 1.0200: : 100% 45000/45000 [00:56<00:00, 789.70it/s] \n",
      "Eval Loss: 0.8972: : 100% 5000/5000 [00:31<00:00, 158.35it/s]\n"
     ]
    }
   ],
   "source": [
    "trainer_class_dropout6.train()"
   ]
  },
  {
   "cell_type": "code",
   "execution_count": 28,
   "metadata": {},
   "outputs": [
    {
     "name": "stderr",
     "output_type": "stream",
     "text": [
      "Eval Loss: 1.0672: : 100% 10000/10000 [00:34<00:00, 286.04it/s]"
     ]
    },
    {
     "name": "stdout",
     "output_type": "stream",
     "text": [
      "{'loss': 1.009704774618149, 'top1': 0.6450000000000001, 'top5': 0.9715}\n"
     ]
    },
    {
     "name": "stderr",
     "output_type": "stream",
     "text": [
      "\n"
     ]
    }
   ],
   "source": [
    "path = './Saved/CIFAR10_drop_6/last_model.pth'\n",
    "\n",
    "trainer_class_dropout6.load_model(path=path)\n",
    "\n",
    "result = trainer_class_dropout6.evaluate(loader=test_loader_dropout6)\n",
    "\n",
    "print(result)"
   ]
  },
  {
   "cell_type": "code",
   "execution_count": 29,
   "metadata": {},
   "outputs": [
    {
     "name": "stdout",
     "output_type": "stream",
     "text": [
      "transforms for preset CIFAR10 for split train are Compose(\n",
      "    ToTensor()\n",
      "    Normalize(mean=(0.5, 0.5, 0.5), std=(0.5, 0.5, 0.5))\n",
      ")\n",
      "Initialization DataLoader for 45000 samples with {'batch_size': 200, 'shuffle': True, 'num_workers': 6}\n",
      "Initialization heldout DataLoader 5000 samples with {'batch_size': 200, 'shuffle': False, 'num_workers': 6}\n",
      "transforms for preset CIFAR10 for split eval are Compose(\n",
      "    ToTensor()\n",
      "    Normalize(mean=(0.5, 0.5, 0.5), std=(0.5, 0.5, 0.5))\n",
      ")\n",
      "Initialization DataLoader for 10000 samples with {'batch_size': 200, 'shuffle': False, 'num_workers': 6}\n"
     ]
    }
   ],
   "source": [
    "q3b_dropout9_config = cnn_cifar10.q3b_dropout9\n",
    "\n",
    "datamodule_class_dropout9 = q3b_dropout9_config['datamodule']\n",
    "data_args_dropout9 = q3b_dropout9_config['data_args']\n",
    "\n",
    "dm_dropout9 = datamodule_class_dropout9(**data_args_dropout9)\n",
    "\n",
    "train_data_loader_dropout9 = dm_dropout9.get_loader()\n",
    "valid_data_loader_dropout9 = dm_dropout9.get_heldout_loader()\n",
    "\n",
    "test_data_args_dropout9 = deepcopy(data_args_dropout9) # copy the args\n",
    "test_data_args_dropout9['training'] = False\n",
    "test_data_args_dropout9['shuffle'] = False\n",
    "test_data_args_dropout9['heldout_split'] = 0.0\n",
    "\n",
    "test_dm_dropout9 = datamodule_class_dropout9(**test_data_args_dropout9)\n",
    "test_loader_dropout9 = test_dm_dropout9.get_loader() # and get the loader from it\n",
    "\n",
    "trainer_class_dropout9 = q3b_dropout9_config['trainer_module']\n",
    "trainer_class_dropout9 = trainer_class_dropout9(\n",
    "    config = q3b_dropout9_config, \n",
    "    log_dir = ospj(PROJECT_ROOT,'Logs'),\n",
    "    train_loader=train_data_loader_dropout9, \n",
    "    eval_loader=valid_data_loader_dropout9,\n",
    ")"
   ]
  },
  {
   "cell_type": "code",
   "execution_count": 30,
   "metadata": {},
   "outputs": [
    {
     "name": "stderr",
     "output_type": "stream",
     "text": [
      "Train Epoch: 1 Loss: 1.9849: : 100% 45000/45000 [00:57<00:00, 787.36it/s] \n",
      "Eval Loss: 3.0144: : 100% 5000/5000 [00:30<00:00, 165.12it/s] \n",
      "Train Epoch: 2 Loss: 1.9991: : 100% 45000/45000 [00:56<00:00, 797.34it/s] \n",
      "Eval Loss: 3.0906: : 100% 5000/5000 [00:31<00:00, 159.88it/s]\n",
      "Train Epoch: 3 Loss: 1.9592: : 100% 45000/45000 [00:56<00:00, 792.60it/s] \n",
      "Eval Loss: 3.1473: : 100% 5000/5000 [00:31<00:00, 160.04it/s] \n",
      "Train Epoch: 4 Loss: 1.9528: : 100% 45000/45000 [00:56<00:00, 800.01it/s] \n",
      "Eval Loss: 3.1458: : 100% 5000/5000 [00:30<00:00, 163.45it/s]\n",
      "Train Epoch: 5 Loss: 1.9031: : 100% 45000/45000 [00:57<00:00, 786.95it/s] \n",
      "Eval Loss: 3.1793: : 100% 5000/5000 [00:31<00:00, 157.04it/s] \n",
      "Train Epoch: 6 Loss: 1.8871: : 100% 45000/45000 [00:57<00:00, 787.75it/s] \n",
      "Eval Loss: 3.1903: : 100% 5000/5000 [00:31<00:00, 158.42it/s] \n",
      "Train Epoch: 7 Loss: 1.9469: : 100% 45000/45000 [00:56<00:00, 800.94it/s] \n",
      "Eval Loss: 3.1646: : 100% 5000/5000 [00:30<00:00, 164.76it/s] \n",
      "Train Epoch: 8 Loss: 1.8980: : 100% 45000/45000 [00:56<00:00, 794.01it/s] \n",
      "Eval Loss: 3.2102: : 100% 5000/5000 [00:31<00:00, 160.54it/s]\n",
      "Train Epoch: 9 Loss: 1.8195: : 100% 45000/45000 [00:56<00:00, 796.03it/s] \n",
      "Eval Loss: 3.1893: : 100% 5000/5000 [00:31<00:00, 157.80it/s]\n",
      "Train Epoch: 10 Loss: 1.8964: : 100% 45000/45000 [00:56<00:00, 796.92it/s] \n",
      "Eval Loss: 3.1980: : 100% 5000/5000 [00:30<00:00, 165.28it/s] \n"
     ]
    }
   ],
   "source": [
    "trainer_class_dropout9.train()"
   ]
  },
  {
   "cell_type": "code",
   "execution_count": 31,
   "metadata": {},
   "outputs": [
    {
     "name": "stderr",
     "output_type": "stream",
     "text": [
      "Eval Loss: 3.2906: : 100% 10000/10000 [00:33<00:00, 297.92it/s]"
     ]
    },
    {
     "name": "stdout",
     "output_type": "stream",
     "text": [
      "{'loss': 3.1525911903381347, 'top1': 0.10069999999999998, 'top5': 0.5002000000000002}\n"
     ]
    },
    {
     "name": "stderr",
     "output_type": "stream",
     "text": [
      "\n"
     ]
    }
   ],
   "source": [
    "path = './Saved/CIFAR10_drop_9/last_model.pth'\n",
    "\n",
    "trainer_class_dropout9.load_model(path=path)\n",
    "\n",
    "result = trainer_class_dropout9.evaluate(loader=test_loader_dropout9)\n",
    "\n",
    "print(result)"
   ]
  },
  {
   "cell_type": "markdown",
   "metadata": {},
   "source": [
    "Wirte your report for Q3 in this cell. Feel free to add extra code cells\n",
    "\n",
    "<br>\n",
    "\n",
    "| Augmentation Technique               | Eval Loss | Internal Loss | Top-1 Accuracy | Top-5 Accuracy |\n",
    "|-------------------------------------|-----------|----------------|----------------|----------------|\n",
    "| Flipping                            | 0.5693    | 0.5482         | 81.72%         | 98.95%         |\n",
    "| Cropping + Flipping                 | 0.5686    | 0.5687         | 80.53%         | 98.89%         |\n",
    "| Cropping + Flipping + Rotation     | 0.5945    | 0.5613         | 81.07%         | 98.84%         |\n",
    "| Color Jitter                        | 0.5390    | 0.5130         | 83.03%         | 99.08%         |\n",
    "| Aggressive                          | 0.5880    | 0.5901         | 80.16%         | 98.85%         |\n",
    "\n",
    "\n",
    "Among the evaluated augmentation techniques, Color Jitter achieved the best generalization performance, with the lowest evaluation loss (0.5390) and highest top-1 (83.03%) and top-5 (99.08%) accuracy. This indicates that color-based perturbations may enhance the model's robustness more effectively than geometric transformations alone. In contrast, the Aggressive strategy performed the worst in terms of evaluation loss (0.5880) and top-1 accuracy (80.16%), suggesting that overly complex or intense augmentations might hinder model performance on unseen data. Interestingly, while Cropping + Flipping + Rotation had a moderate top-1 accuracy (81.07%), its eval loss was the highest (0.5945), indicating potential overfitting or misalignment between training and test distributions. Overall, Color Jitter appears to be the most effective augmentation method for improving model generalization on the held-out test set.\n",
    "\n",
    "For all random crops in this question we have used output size of 32, and padding equal to 4. For random horizontal flip we used probability of being flipped equal to 0.5 and the vlue used for random rotation is equal to 10 degrees. The parameters used for color jitter are brightness of 0.2, contrast of 0.2 as well as saturation of 0.2 and hue of 0.1.\n",
    "\n",
    "\n",
    "| Dropout Probability | Eval Loss | Internal Loss | Top-1 Accuracy | Top-5 Accuracy |\n",
    "|---------------------|-----------|----------------|----------------|----------------|\n",
    "| 0.0                 | 0.8603    | 0.7006         | 77.06%         | 98.65%         |\n",
    "| 0.2                 | 0.6341    | 0.6237         | 78.61%         | 98.55%         |\n",
    "| 0.4                 | 0.7788    | 0.7696         | 74.02%         | 97.79%         |\n",
    "| 0.6                 | 1.0672    | 1.0097         | 64.50%         | 97.15%         |\n",
    "| 0.9                 | 3.2906    | 3.1526         | 10.07%         | 50.02%         |\n",
    "\n",
    "\n",
    "The results clearly demonstrate the effect of varying dropout probabilities on model generalization. A moderate dropout rate of 0.2 yielded the best generalization, with the lowest eval loss (0.6341) and the highest top-1 accuracy (78.61%). Without dropout (p = 0), the model already performs reasonably well, but the slight regularization introduced by p = 0.2 improves performance. As the dropout rate increases beyond this point, performance degrades significantly: p = 0.4 shows reduced accuracy and higher losses, and p = 0.6 leads to a steep decline. At p = 0.9, the model effectively breaks down, with catastrophic performance (only 10.07% top-1 accuracy), suggesting severe underfitting. Moreover, the results show that top-5 accuracy degerades as we increase dropout probability. Setting p = 0.9 overly simplifies the model causing it to underfit and perform with a random performance.\n",
    "\n",
    "</br>\n"
   ]
  },
  {
   "cell_type": "markdown",
   "metadata": {
    "id": "AOgg_0Scc4uL"
   },
   "source": [
    "### Question 4: Use pretrained networks (10 points)\n",
    "\n",
    "It has become standard practice in computer vision tasks related to images to use a convolutional network pre-trained as the backbone feature extraction network and train new layers on top for the target task. In this question, we will implement such a model. We will use the `VGG_11_bn` network from the `torchvision.models` library as our backbone network. This model has been trained on ImageNet, achieving a top-5 error rate of 10.19%. It consists of 8 convolutional layers followed by adaptive average pooling and fully-connected layers to perform the classification. We will get rid of the average pooling and fully-connected layers from the `VGG_11_bn` model and attach our own fully connected layers to perform the CIFAR-10 classification.\n",
    "\n",
    "a) Instantiate a pretrained version of the `VGG_11_bn` model with ImageNet pre-trained weights. Add two fully connected layers on top, with Batch Norm and ReLU layers in between them, to build the CIFAR-10 10-class classifier. Note that you will need to set the correct mean and variance in the data-loader, to match the mean and variance the data was normalized with when the `VGG_11_bn` was trained. Train only the newly added layers while disabling gradients for the rest of the network. Each parameter in PyTorch has a required grad flag, which can be turned off to disable gradient computation for it. Get familiar with this gradient control mechanism in PyTorch and train the above model. As a reference point, you will see validation accuracies in the range (61-65%) if implemented correctly. (6 points)\n",
    "\n",
    "b) We can see that while the ImageNet features are useful, just learning the new layers does not yield better performance than training our own network from scratch. This is due to the domain-shift between the ImageNet dataset (224x224 resolution images) and the CIFAR-10 dataset (32x32 images). To improve the performance we can fine-tune the whole network on the CIFAR-10 dataset, starting from the ImageNet initialization (set `\"fine_tune\"` to `true` in `vgg_cifar10.py`). To do this, enable gradient computation to the rest of the network, and update all the model parameters. Additionally train a baseline model where the entire network is trained from scratch, without loading the ImageNet weights (set `\"weights\"` to `None` in `vgg_cifar10.py`). Compare the two models' training curves, validation, and testing performance in the report. (4 points)\n",
    "\n",
    "\n",
    "If you're using Pytorch 1, the `weights` argument will not work. In that case, you need to change the `weights` argument to `pretrained=True` or `False`. Feel free to post on Forum if you have any issues.\n",
    "\n",
    "For both questions, feel free to modify the data augmentation by defining a new preset and referring to it in the config file. However, make sure that in your experiments you always change only one thing at a time (i.e use the same augmentation for both method A and method B if you're comparing them with each other!)"
   ]
  },
  {
   "cell_type": "code",
   "execution_count": 50,
   "metadata": {},
   "outputs": [
    {
     "name": "stdout",
     "output_type": "stream",
     "text": [
      "transforms for preset CIFAR10_VGG for split train are Compose(\n",
      "    ToTensor()\n",
      "    Normalize(mean=(0.485, 0.456, 0.406), std=(0.229, 0.224, 0.225))\n",
      ")\n",
      "Initialization DataLoader for 45000 samples with {'batch_size': 64, 'shuffle': True, 'num_workers': 6}\n",
      "Initialization heldout DataLoader 5000 samples with {'batch_size': 64, 'shuffle': False, 'num_workers': 6}\n",
      "transforms for preset CIFAR10_VGG for split eval are Compose(\n",
      "    ToTensor()\n",
      "    Normalize(mean=(0.485, 0.456, 0.406), std=(0.229, 0.224, 0.225))\n",
      ")\n",
      "Initialization DataLoader for 10000 samples with {'batch_size': 64, 'shuffle': False, 'num_workers': 6}\n"
     ]
    }
   ],
   "source": [
    "from cfgs.exercise_3 import vgg_cifar10\n",
    "q4_config = vgg_cifar10.q4_dict\n",
    "\n",
    "\n",
    "datamodule_class = q4_config['datamodule']\n",
    "data_args = q4_config['data_args']\n",
    "\n",
    "dm = datamodule_class(**data_args)\n",
    "\n",
    "# Based on the heldout_split in the config file, \n",
    "# the datamodule will break the dataset into two splits\n",
    "train_data_loader = dm.get_loader()\n",
    "valid_data_loader = dm.get_heldout_loader()\n",
    "\n",
    "# Test loader is the same as train loader\n",
    "# except that training=False, shuffle=False, and no splitting is done \n",
    "# So we use the exact config from training and just modify these arguments\n",
    "test_data_args = deepcopy(data_args) # copy the args\n",
    "test_data_args['training']=False\n",
    "test_data_args['shuffle']=False\n",
    "test_data_args['heldout_split']=0.0\n",
    "\n",
    "# Now we initialize the test module with the modified config\n",
    "test_dm = datamodule_class(**test_data_args)\n",
    "test_loader = test_dm.get_loader() # and get the loader from it"
   ]
  },
  {
   "cell_type": "markdown",
   "metadata": {},
   "source": [
    " By default WandB is enabled in config file for `vgg_cifar10.py`. You can set it to false if you don't want to use it. It's not an essential part of the assignment anyway."
   ]
  },
  {
   "cell_type": "code",
   "execution_count": 51,
   "metadata": {},
   "outputs": [],
   "source": [
    "wandb_enabled = q4_config['trainer_config']['wandb']\n",
    "if wandb_enabled:\n",
    "    import wandb\n",
    "    \n",
    "    # change entity to your wandb username/group name. Also feel free to rename project and run names.\n",
    "    run = wandb.init(\n",
    "        project=\"HLCV-exercise-3\", # Change the project name if you wish.\n",
    "        name=q4_config['name'],\n",
    "        config=q4_config,\n",
    "        entity=\"nima-dindarsafa\", # Replace the curious puffin with your WandB username :)\n",
    "        dir=PROJECT_ROOT\n",
    "    )\n",
    "    run.name = run.name + f'-{run.id}'\n",
    "    assert run is wandb.run\n"
   ]
  },
  {
   "cell_type": "code",
   "execution_count": 52,
   "metadata": {},
   "outputs": [
    {
     "name": "stdout",
     "output_type": "stream",
     "text": [
      "PyTorch version: 2.7.0+cu118\n",
      "Torchvision version: 0.22.0+cu118\n"
     ]
    }
   ],
   "source": [
    "import torch\n",
    "import torchvision\n",
    "print(f\"PyTorch version: {torch.__version__}\")\n",
    "print(f\"Torchvision version: {torchvision.__version__}\")"
   ]
  },
  {
   "cell_type": "code",
   "execution_count": 53,
   "metadata": {},
   "outputs": [
    {
     "name": "stdout",
     "output_type": "stream",
     "text": [
      "Warning! Log file ./Logs\\CIFAR10_VGG.log already exists! The logs will be appended!\n",
      "Warning! Save dir Saved\\CIFAR10_VGG already exists!Existing checkpoints will be overwritten!\n"
     ]
    }
   ],
   "source": [
    "trainer_class = q4_config['trainer_module']\n",
    "trainer_vgg = trainer_class(\n",
    "    config = q4_config, \n",
    "    log_dir = ospj(PROJECT_ROOT,'Logs'),\n",
    "    train_loader=train_data_loader, \n",
    "    eval_loader=valid_data_loader,\n",
    ")"
   ]
  },
  {
   "cell_type": "code",
   "execution_count": 36,
   "metadata": {},
   "outputs": [
    {
     "name": "stderr",
     "output_type": "stream",
     "text": [
      "Train Epoch: 1 Loss: 0.8876: : 100% 45056/45056 [00:36<00:00, 1235.95it/s]\n",
      "Eval Loss: 1.5441: : 100% 5056/5056 [00:26<00:00, 188.11it/s] \n",
      "Train Epoch: 2 Loss: 1.2776: : 100% 45056/45056 [00:36<00:00, 1241.49it/s]\n",
      "Eval Loss: 1.6862: : 100% 5056/5056 [00:26<00:00, 189.93it/s] \n",
      "Train Epoch: 3 Loss: 0.6631: : 100% 45056/45056 [00:36<00:00, 1235.99it/s]\n",
      "Eval Loss: 1.7057: : 100% 5056/5056 [00:26<00:00, 189.87it/s] \n",
      "Train Epoch: 4 Loss: 1.4155: : 100% 45056/45056 [00:36<00:00, 1240.08it/s]\n",
      "Eval Loss: 1.4086: : 100% 5056/5056 [00:26<00:00, 191.25it/s] \n",
      "Train Epoch: 5 Loss: 0.9556: : 100% 45056/45056 [00:36<00:00, 1229.47it/s]\n",
      "Eval Loss: 1.5906: : 100% 5056/5056 [00:26<00:00, 189.31it/s] \n",
      "Train Epoch: 6 Loss: 0.8621: : 100% 45056/45056 [00:36<00:00, 1231.10it/s]\n",
      "Eval Loss: 1.4680: : 100% 5056/5056 [00:26<00:00, 190.29it/s] \n",
      "Train Epoch: 7 Loss: 2.2719: : 100% 45056/45056 [00:36<00:00, 1242.09it/s]\n",
      "Eval Loss: 1.3352: : 100% 5056/5056 [00:26<00:00, 189.29it/s] \n",
      "Train Epoch: 8 Loss: 3.6027: : 100% 45056/45056 [00:36<00:00, 1245.66it/s]\n",
      "Eval Loss: 1.0793: : 100% 5056/5056 [00:26<00:00, 189.90it/s] \n",
      "Train Epoch: 9 Loss: 1.1394: : 100% 45056/45056 [00:36<00:00, 1233.15it/s]\n",
      "Eval Loss: 1.7513: : 100% 5056/5056 [00:26<00:00, 189.80it/s] \n"
     ]
    }
   ],
   "source": [
    "trainer_vgg.train()"
   ]
  },
  {
   "cell_type": "code",
   "execution_count": 37,
   "metadata": {},
   "outputs": [
    {
     "name": "stderr",
     "output_type": "stream",
     "text": [
      "Eval Loss: 1.0897: : 100% 10048/10048 [00:23<00:00, 418.73it/s]"
     ]
    },
    {
     "name": "stdout",
     "output_type": "stream",
     "text": [
      "{'loss': 1.1142396406762918, 'top1': 0.6521695859872612, 'top5': 0.9654657643312102}\n"
     ]
    },
    {
     "name": "stderr",
     "output_type": "stream",
     "text": [
      "\n"
     ]
    }
   ],
   "source": [
    "# Change this to the experiment you want to evaluate\n",
    "path = './Saved/CIFAR10_VGG/last_model.pth'\n",
    "\n",
    "trainer_vgg.load_model(path=path)\n",
    "\n",
    "result = trainer_vgg.evaluate(loader=test_loader)\n",
    "\n",
    "print(result)\n",
    "\n",
    "if wandb_enabled:\n",
    "    for metrics, values in result.items():\n",
    "        wandb.run.summary[f\"test_{metrics}\"] = values\n",
    "\n",
    "    # Change the title and message as you wish.\n",
    "    # Would only work if you have enabled push notifications for your email/slack in wandb account settings.\n",
    "    # Of course not an essential part of the assignment :)\n",
    "    wandb.alert(\n",
    "        title=\"Training Finished\",\n",
    "        text=f'VGG Training has finished. Test results: {result}', level=wandb.AlertLevel.INFO\n",
    "    )\n",
    "\n",
    "    run.finish()"
   ]
  },
  {
   "cell_type": "code",
   "execution_count": 38,
   "metadata": {},
   "outputs": [
    {
     "name": "stdout",
     "output_type": "stream",
     "text": [
      "transforms for preset CIFAR10_VGG for split train are Compose(\n",
      "    ToTensor()\n",
      "    Normalize(mean=(0.485, 0.456, 0.406), std=(0.229, 0.224, 0.225))\n",
      ")\n",
      "Initialization DataLoader for 45000 samples with {'batch_size': 64, 'shuffle': True, 'num_workers': 6}\n",
      "Initialization heldout DataLoader 5000 samples with {'batch_size': 64, 'shuffle': False, 'num_workers': 6}\n",
      "transforms for preset CIFAR10_VGG for split eval are Compose(\n",
      "    ToTensor()\n",
      "    Normalize(mean=(0.485, 0.456, 0.406), std=(0.229, 0.224, 0.225))\n",
      ")\n",
      "Initialization DataLoader for 10000 samples with {'batch_size': 64, 'shuffle': False, 'num_workers': 6}\n"
     ]
    }
   ],
   "source": [
    "q4b_config = vgg_cifar10.q4b_dict\n",
    "\n",
    "\n",
    "datamodule_class = q4b_config['datamodule']\n",
    "data_args = q4b_config['data_args']\n",
    "\n",
    "dm = datamodule_class(**data_args)\n",
    "\n",
    "# Based on the heldout_split in the config file, \n",
    "# the datamodule will break the dataset into two splits\n",
    "train_data_loader = dm.get_loader()\n",
    "valid_data_loader = dm.get_heldout_loader()\n",
    "\n",
    "# Test loader is the same as train loader\n",
    "# except that training=False, shuffle=False, and no splitting is done \n",
    "# So we use the exact config from training and just modify these arguments\n",
    "test_data_args = deepcopy(data_args) # copy the args\n",
    "test_data_args['training']=False\n",
    "test_data_args['shuffle']=False\n",
    "test_data_args['heldout_split']=0.0\n",
    "\n",
    "# Now we initialize the test module with the modified config\n",
    "test_dm = datamodule_class(**test_data_args)\n",
    "test_loader = test_dm.get_loader() # and get the loader from it"
   ]
  },
  {
   "cell_type": "code",
   "execution_count": 39,
   "metadata": {},
   "outputs": [],
   "source": [
    "trainer_class = q4b_config['trainer_module']\n",
    "trainer_vgg_w_finetune = trainer_class(\n",
    "    config = q4b_config, \n",
    "    log_dir = ospj(PROJECT_ROOT,'Logs'),\n",
    "    train_loader=train_data_loader, \n",
    "    eval_loader=valid_data_loader,\n",
    ")"
   ]
  },
  {
   "cell_type": "code",
   "execution_count": 40,
   "metadata": {},
   "outputs": [
    {
     "name": "stderr",
     "output_type": "stream",
     "text": [
      "Train Epoch: 1 Loss: 1.1783: : 100% 45056/45056 [00:48<00:00, 926.85it/s] \n",
      "Eval Loss: 1.5545: : 100% 5056/5056 [00:27<00:00, 180.59it/s] \n",
      "Train Epoch: 2 Loss: 0.9386: : 100% 45056/45056 [00:48<00:00, 931.81it/s] \n",
      "Eval Loss: 1.1519: : 100% 5056/5056 [00:27<00:00, 182.89it/s] \n",
      "Train Epoch: 3 Loss: 0.5790: : 100% 45056/45056 [00:48<00:00, 927.32it/s] \n",
      "Eval Loss: 0.6679: : 100% 5056/5056 [00:26<00:00, 189.42it/s] \n",
      "Train Epoch: 4 Loss: 0.8816: : 100% 45056/45056 [00:49<00:00, 918.44it/s] \n",
      "Eval Loss: 0.6926: : 100% 5056/5056 [00:26<00:00, 189.76it/s] \n",
      "Train Epoch: 5 Loss: 1.2335: : 100% 45056/45056 [00:49<00:00, 914.94it/s] \n",
      "Eval Loss: 0.6664: : 100% 5056/5056 [00:26<00:00, 189.90it/s] \n",
      "Train Epoch: 6 Loss: 0.2065: : 100% 45056/45056 [00:49<00:00, 908.16it/s] \n",
      "Eval Loss: 0.9897: : 100% 5056/5056 [00:26<00:00, 188.87it/s] \n",
      "Train Epoch: 7 Loss: 0.0633: : 100% 45056/45056 [00:49<00:00, 912.99it/s] \n",
      "Eval Loss: 0.8916: : 100% 5056/5056 [00:27<00:00, 182.84it/s] \n",
      "Train Epoch: 8 Loss: 0.9410: : 100% 45056/45056 [00:48<00:00, 933.17it/s] \n",
      "Eval Loss: 1.1582: : 100% 5056/5056 [00:28<00:00, 180.27it/s] \n",
      "Train Epoch: 9 Loss: 0.8222: : 100% 45056/45056 [00:48<00:00, 926.76it/s] \n",
      "Eval Loss: 1.5359: : 100% 5056/5056 [00:27<00:00, 186.13it/s] \n",
      "Train Epoch: 10 Loss: 0.3137: : 100% 45056/45056 [00:48<00:00, 921.28it/s] \n",
      "Eval Loss: 1.3870: : 100% 5056/5056 [00:26<00:00, 189.13it/s] \n",
      "Train Epoch: 11 Loss: 1.8932: : 100% 45056/45056 [00:49<00:00, 919.47it/s] \n",
      "Eval Loss: 1.1000: : 100% 5056/5056 [00:26<00:00, 189.31it/s] \n",
      "Train Epoch: 12 Loss: 0.2379: : 100% 45056/45056 [00:49<00:00, 905.54it/s] \n",
      "Eval Loss: 1.7273: : 100% 5056/5056 [00:27<00:00, 186.45it/s] \n",
      "Train Epoch: 13 Loss: 0.0157: : 100% 45056/45056 [00:49<00:00, 911.02it/s] \n",
      "Eval Loss: 2.5456: : 100% 5056/5056 [00:27<00:00, 184.29it/s] \n",
      "Train Epoch: 14 Loss: 0.3176: : 100% 45056/45056 [00:48<00:00, 921.36it/s] \n",
      "Eval Loss: 1.5064: : 100% 5056/5056 [00:27<00:00, 181.39it/s] \n"
     ]
    }
   ],
   "source": [
    "trainer_vgg_w_finetune.train()"
   ]
  },
  {
   "cell_type": "code",
   "execution_count": 41,
   "metadata": {},
   "outputs": [
    {
     "name": "stderr",
     "output_type": "stream",
     "text": [
      "Eval Loss: 0.4942: : 100% 10048/10048 [00:25<00:00, 392.81it/s]"
     ]
    },
    {
     "name": "stdout",
     "output_type": "stream",
     "text": [
      "{'loss': 0.6523458974756253, 'top1': 0.8467356687898089, 'top5': 0.9912420382165605}\n"
     ]
    },
    {
     "name": "stderr",
     "output_type": "stream",
     "text": [
      "\n"
     ]
    }
   ],
   "source": [
    "path = './Saved/CIFAR10_VGG_W_FINETUNE/last_model.pth'\n",
    "\n",
    "trainer_vgg.load_model(path=path)\n",
    "\n",
    "result = trainer_vgg.evaluate(loader=test_loader)\n",
    "\n",
    "print(result)"
   ]
  },
  {
   "cell_type": "code",
   "execution_count": 42,
   "metadata": {},
   "outputs": [
    {
     "name": "stdout",
     "output_type": "stream",
     "text": [
      "transforms for preset CIFAR10_VGG for split train are Compose(\n",
      "    ToTensor()\n",
      "    Normalize(mean=(0.485, 0.456, 0.406), std=(0.229, 0.224, 0.225))\n",
      ")\n",
      "Initialization DataLoader for 45000 samples with {'batch_size': 64, 'shuffle': True, 'num_workers': 6}\n",
      "Initialization heldout DataLoader 5000 samples with {'batch_size': 64, 'shuffle': False, 'num_workers': 6}\n",
      "transforms for preset CIFAR10_VGG for split eval are Compose(\n",
      "    ToTensor()\n",
      "    Normalize(mean=(0.485, 0.456, 0.406), std=(0.229, 0.224, 0.225))\n",
      ")\n",
      "Initialization DataLoader for 10000 samples with {'batch_size': 64, 'shuffle': False, 'num_workers': 6}\n"
     ]
    }
   ],
   "source": [
    "q4_baseline_config = vgg_cifar10.q4_dict_baseline\n",
    "\n",
    "\n",
    "datamodule_class = q4_baseline_config['datamodule']\n",
    "data_args = q4_baseline_config['data_args']\n",
    "\n",
    "dm = datamodule_class(**data_args)\n",
    "\n",
    "# Based on the heldout_split in the config file, \n",
    "# the datamodule will break the dataset into two splits\n",
    "train_data_loader = dm.get_loader()\n",
    "valid_data_loader = dm.get_heldout_loader()\n",
    "\n",
    "# Test loader is the same as train loader\n",
    "# except that training=False, shuffle=False, and no splitting is done \n",
    "# So we use the exact config from training and just modify these arguments\n",
    "test_data_args = deepcopy(data_args) # copy the args\n",
    "test_data_args['training']=False\n",
    "test_data_args['shuffle']=False\n",
    "test_data_args['heldout_split']=0.0\n",
    "\n",
    "# Now we initialize the test module with the modified config\n",
    "test_dm = datamodule_class(**test_data_args)\n",
    "test_loader = test_dm.get_loader() # and get the loader from it"
   ]
  },
  {
   "cell_type": "code",
   "execution_count": 43,
   "metadata": {},
   "outputs": [],
   "source": [
    "trainer_class = q4_baseline_config['trainer_module']\n",
    "trainer_vgg_baseline = trainer_class(\n",
    "    config = q4_baseline_config, \n",
    "    log_dir = ospj(PROJECT_ROOT,'Logs'),\n",
    "    train_loader=train_data_loader, \n",
    "    eval_loader=valid_data_loader,\n",
    ")"
   ]
  },
  {
   "cell_type": "code",
   "execution_count": 44,
   "metadata": {},
   "outputs": [
    {
     "name": "stderr",
     "output_type": "stream",
     "text": [
      "Train Epoch: 1 Loss: 0.8850: : 100% 45056/45056 [00:49<00:00, 914.51it/s] \n",
      "Eval Loss: 1.4949: : 100% 5056/5056 [00:27<00:00, 182.64it/s] \n",
      "Train Epoch: 2 Loss: 0.3900: : 100% 45056/45056 [00:48<00:00, 927.13it/s] \n",
      "Eval Loss: 1.3653: : 100% 5056/5056 [00:27<00:00, 181.41it/s] \n",
      "Train Epoch: 3 Loss: 0.3506: : 100% 45056/45056 [00:48<00:00, 929.63it/s] \n",
      "Eval Loss: 1.0157: : 100% 5056/5056 [00:27<00:00, 185.53it/s] \n",
      "Train Epoch: 4 Loss: 1.0532: : 100% 45056/45056 [00:48<00:00, 924.23it/s] \n",
      "Eval Loss: 1.1125: : 100% 5056/5056 [00:26<00:00, 189.12it/s] \n",
      "Train Epoch: 5 Loss: 2.3544: : 100% 45056/45056 [00:49<00:00, 914.25it/s] \n",
      "Eval Loss: 1.1748: : 100% 5056/5056 [00:26<00:00, 190.34it/s] \n",
      "Train Epoch: 6 Loss: 0.6088: : 100% 45056/45056 [00:49<00:00, 907.01it/s] \n",
      "Eval Loss: 1.4811: : 100% 5056/5056 [00:26<00:00, 187.65it/s] \n",
      "Train Epoch: 7 Loss: 0.4208: : 100% 45056/45056 [00:49<00:00, 911.14it/s] \n",
      "Eval Loss: 1.6662: : 100% 5056/5056 [00:27<00:00, 185.56it/s] \n",
      "Train Epoch: 8 Loss: 0.3846: : 100% 45056/45056 [00:48<00:00, 922.24it/s] \n",
      "Eval Loss: 1.4505: : 100% 5056/5056 [00:27<00:00, 182.28it/s] \n",
      "Train Epoch: 9 Loss: 0.3579: : 100% 45056/45056 [00:48<00:00, 922.42it/s] \n",
      "Eval Loss: 1.6440: : 100% 5056/5056 [00:27<00:00, 185.22it/s] \n",
      "Train Epoch: 10 Loss: 1.3833: : 100% 45056/45056 [00:48<00:00, 925.44it/s] \n",
      "Eval Loss: 1.2485: : 100% 5056/5056 [00:27<00:00, 186.98it/s] \n",
      "Train Epoch: 11 Loss: 0.2269: : 100% 45056/45056 [00:48<00:00, 920.25it/s] \n",
      "Eval Loss: 2.2108: : 100% 5056/5056 [00:26<00:00, 189.52it/s] \n",
      "Train Epoch: 12 Loss: 0.0295: : 100% 45056/45056 [00:49<00:00, 907.91it/s] \n",
      "Eval Loss: 0.9405: : 100% 5056/5056 [00:26<00:00, 188.42it/s] \n",
      "Train Epoch: 13 Loss: 0.0011: : 100% 45056/45056 [00:49<00:00, 911.50it/s] \n",
      "Eval Loss: 1.8092: : 100% 5056/5056 [00:27<00:00, 184.98it/s] \n",
      "Train Epoch: 14 Loss: 1.3997: : 100% 45056/45056 [00:49<00:00, 917.39it/s] \n",
      "Eval Loss: 0.9574: : 100% 5056/5056 [00:27<00:00, 184.25it/s] \n",
      "Train Epoch: 15 Loss: 0.5420: : 100% 45056/45056 [00:49<00:00, 910.03it/s] \n",
      "Eval Loss: 1.5744: : 100% 5056/5056 [00:27<00:00, 182.17it/s] \n"
     ]
    }
   ],
   "source": [
    "trainer_vgg_baseline.train()"
   ]
  },
  {
   "cell_type": "code",
   "execution_count": 45,
   "metadata": {},
   "outputs": [
    {
     "name": "stderr",
     "output_type": "stream",
     "text": [
      "Eval Loss: 0.4245: : 100% 10048/10048 [00:24<00:00, 409.98it/s]"
     ]
    },
    {
     "name": "stdout",
     "output_type": "stream",
     "text": [
      "{'loss': 0.8332066486595543, 'top1': 0.8099124203821656, 'top5': 0.9878582802547771}\n"
     ]
    },
    {
     "name": "stderr",
     "output_type": "stream",
     "text": [
      "\n"
     ]
    }
   ],
   "source": [
    "path = './Saved/CIFAR10_VGG_BASELINE/last_model.pth'\n",
    "\n",
    "trainer_vgg.load_model(path=path)\n",
    "\n",
    "result = trainer_vgg.evaluate(loader=test_loader)\n",
    "\n",
    "print(result)"
   ]
  },
  {
   "cell_type": "code",
   "execution_count": 54,
   "metadata": {},
   "outputs": [
    {
     "data": {
      "image/png": "[encoded data removed]",
      "text/plain": [
       "<Figure size 1000x1200 with 3 Axes>"
      ]
     },
     "metadata": {},
     "output_type": "display_data"
    }
   ],
   "source": [
    "import matplotlib.pyplot as plt\n",
    "\n",
    "vgg_no_ft_train = [0.8876, 1.2776, 0.6631, 1.4155, 0.9556, 0.8621, 2.2719, 3.6027, 1.1394]\n",
    "vgg_no_ft_eval =  [1.5441, 1.6862, 1.7057, 1.4086, 1.5906, 1.4680, 1.3352, 1.0793, 1.7513]\n",
    "\n",
    "vgg_ft_train = [1.1783, 0.9386, 0.5790, 0.8816, 1.2335, 0.2065, 0.0633, 0.9410, 0.8222, 0.3137,\n",
    "                1.8932, 0.2379, 0.0157, 0.3176]\n",
    "vgg_ft_eval =  [1.5545, 1.1519, 0.6679, 0.6926, 0.6664, 0.9897, 0.8916, 1.1582, 1.5359, 1.3870,\n",
    "                1.1000, 1.7273, 2.5456, 1.5064]\n",
    "\n",
    "baseline_train = [0.8850, 0.3900, 0.3506, 1.0532, 2.3544, 0.6088, 0.4208, 0.3846, 0.3579, 1.3833,\n",
    "                  0.2269, 0.0295, 0.0011, 1.3997, 0.5420]\n",
    "baseline_eval =  [1.4949, 1.3653, 1.0157, 1.1125, 1.1748, 1.4811, 1.6662, 1.4505, 1.6440, 1.2485,\n",
    "                  2.2108, 0.9405, 1.8092, 0.9574, 1.5744]\n",
    "\n",
    "fig, axs = plt.subplots(3, 1, figsize=(10, 12), sharex=True)\n",
    "\n",
    "axs[0].plot(vgg_no_ft_train, label='Train Loss', marker='o')\n",
    "axs[0].plot(vgg_no_ft_eval, label='Eval Loss', marker='s')\n",
    "axs[0].set_title('VGG without Fine-Tuning')\n",
    "axs[0].set_ylabel('Loss')\n",
    "axs[0].legend()\n",
    "axs[0].grid(True)\n",
    "\n",
    "axs[1].plot(vgg_ft_train, label='Train Loss', marker='o')\n",
    "axs[1].plot(vgg_ft_eval, label='Eval Loss', marker='s')\n",
    "axs[1].set_title('VGG with Fine-Tuning')\n",
    "axs[1].set_ylabel('Loss')\n",
    "axs[1].legend()\n",
    "axs[1].grid(True)\n",
    "\n",
    "axs[2].plot(baseline_train, label='Train Loss', marker='o')\n",
    "axs[2].plot(baseline_eval, label='Eval Loss', marker='s')\n",
    "axs[2].set_title('Baseline Model')\n",
    "axs[2].set_xlabel('Epoch')\n",
    "axs[2].set_ylabel('Loss')\n",
    "axs[2].legend()\n",
    "axs[2].grid(True)\n",
    "\n",
    "plt.tight_layout()\n",
    "plt.show()"
   ]
  },
  {
   "cell_type": "markdown",
   "metadata": {
    "id": "-Uvjz11dc4uN"
   },
   "source": [
    "#### Write your report for Q4 in this cell.\n",
    "Feel free to add more code cells if needed.\n",
    "\n",
    "<br>\n",
    "\n",
    "| Model                   | Eval Loss | Internal Loss | Top-1 Accuracy | Top-5 Accuracy |\n",
    "| ----------------------- | --------- | ------------- | -------------- | -------------- |\n",
    "| VGG without Fine-Tuning | 1.0897    | 1.1142        | 65.21%         | 96.54%         |\n",
    "| VGG with Fine-Tuning    | 0.4942    | 0.6523        | 84.67%         | 99.12%         |\n",
    "| VGG Baseline            | 0.4245    | 0.8332        | 80.99%         | 98.78%         |\n",
    "\n",
    "Comparing the three training regimes, the VGG model with fine-tuning demonstrates the best overall generalization, achieving 84.67% Top-1 accuracy and significantly lower evaluation loss (0.4942) compared to the without fine-tuning model, which struggled with both training stability and generalization, showing fluctuating and high training losses and a final Top-1 accuracy of only 65.21%. The baseline model, while achieving the lowest Eval Loss (0.4245), showed signs of overfitting in training, as evident from steep drops in training loss with inconsistent evaluation performance across epochs. Fine-tuning not only stabilized the training process (with smoother convergence and lower loss values) but also led to the most reliable and consistent evaluation performance, indicating that adapting pretrained weights to the new data is crucial for effective transfer learning. The loss plots do not match in the number of epochs due to early stopping.\n",
    "</br>"
   ]
  }
 ],
 "metadata": {
  "kernelspec": {
   "display_name": "Python 3",
   "language": "python",
   "name": "python3"
  },
  "language_info": {
   "codemirror_mode": {
    "name": "ipython",
    "version": 3
   },
   "file_extension": ".py",
   "mimetype": "text/x-python",
   "name": "python",
   "nbconvert_exporter": "python",
   "pygments_lexer": "ipython3",
   "version": "3.12.3"
  }
 },
 "nbformat": 4,
 "nbformat_minor": 1
}
